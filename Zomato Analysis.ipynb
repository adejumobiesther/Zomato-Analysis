{
 "cells": [
  {
   "cell_type": "code",
   "execution_count": 1,
   "metadata": {},
   "outputs": [],
   "source": [
    "import pandas as pd\n",
    "import numpy as np\n",
    "import matplotlib.pyplot as plt\n",
    "import seaborn as sns"
   ]
  },
  {
   "cell_type": "code",
   "execution_count": 2,
   "metadata": {},
   "outputs": [],
   "source": [
    "zomato = pd.read_csv('zomato.csv')"
   ]
  },
  {
   "cell_type": "code",
   "execution_count": 3,
   "metadata": {},
   "outputs": [
    {
     "data": {
      "text/html": [
       "<div>\n",
       "<style scoped>\n",
       "    .dataframe tbody tr th:only-of-type {\n",
       "        vertical-align: middle;\n",
       "    }\n",
       "\n",
       "    .dataframe tbody tr th {\n",
       "        vertical-align: top;\n",
       "    }\n",
       "\n",
       "    .dataframe thead th {\n",
       "        text-align: right;\n",
       "    }\n",
       "</style>\n",
       "<table border=\"1\" class=\"dataframe\">\n",
       "  <thead>\n",
       "    <tr style=\"text-align: right;\">\n",
       "      <th></th>\n",
       "      <th>url</th>\n",
       "      <th>address</th>\n",
       "      <th>name</th>\n",
       "      <th>online_order</th>\n",
       "      <th>book_table</th>\n",
       "      <th>rate</th>\n",
       "      <th>votes</th>\n",
       "      <th>phone</th>\n",
       "      <th>location</th>\n",
       "      <th>rest_type</th>\n",
       "      <th>dish_liked</th>\n",
       "      <th>cuisines</th>\n",
       "      <th>approx_cost(for two people)</th>\n",
       "      <th>reviews_list</th>\n",
       "      <th>menu_item</th>\n",
       "      <th>listed_in(type)</th>\n",
       "      <th>listed_in(city)</th>\n",
       "    </tr>\n",
       "  </thead>\n",
       "  <tbody>\n",
       "    <tr>\n",
       "      <th>0</th>\n",
       "      <td>https://www.zomato.com/bangalore/jalsa-banasha...</td>\n",
       "      <td>942, 21st Main Road, 2nd Stage, Banashankari, ...</td>\n",
       "      <td>Jalsa</td>\n",
       "      <td>Yes</td>\n",
       "      <td>Yes</td>\n",
       "      <td>4.1/5</td>\n",
       "      <td>775</td>\n",
       "      <td>080 42297555\\r\\n+91 9743772233</td>\n",
       "      <td>Banashankari</td>\n",
       "      <td>Casual Dining</td>\n",
       "      <td>Pasta, Lunch Buffet, Masala Papad, Paneer Laja...</td>\n",
       "      <td>North Indian, Mughlai, Chinese</td>\n",
       "      <td>800</td>\n",
       "      <td>[('Rated 4.0', 'RATED\\n  A beautiful place to ...</td>\n",
       "      <td>[]</td>\n",
       "      <td>Buffet</td>\n",
       "      <td>Banashankari</td>\n",
       "    </tr>\n",
       "    <tr>\n",
       "      <th>1</th>\n",
       "      <td>https://www.zomato.com/bangalore/spice-elephan...</td>\n",
       "      <td>2nd Floor, 80 Feet Road, Near Big Bazaar, 6th ...</td>\n",
       "      <td>Spice Elephant</td>\n",
       "      <td>Yes</td>\n",
       "      <td>No</td>\n",
       "      <td>4.1/5</td>\n",
       "      <td>787</td>\n",
       "      <td>080 41714161</td>\n",
       "      <td>Banashankari</td>\n",
       "      <td>Casual Dining</td>\n",
       "      <td>Momos, Lunch Buffet, Chocolate Nirvana, Thai G...</td>\n",
       "      <td>Chinese, North Indian, Thai</td>\n",
       "      <td>800</td>\n",
       "      <td>[('Rated 4.0', 'RATED\\n  Had been here for din...</td>\n",
       "      <td>[]</td>\n",
       "      <td>Buffet</td>\n",
       "      <td>Banashankari</td>\n",
       "    </tr>\n",
       "    <tr>\n",
       "      <th>2</th>\n",
       "      <td>https://www.zomato.com/SanchurroBangalore?cont...</td>\n",
       "      <td>1112, Next to KIMS Medical College, 17th Cross...</td>\n",
       "      <td>San Churro Cafe</td>\n",
       "      <td>Yes</td>\n",
       "      <td>No</td>\n",
       "      <td>3.8/5</td>\n",
       "      <td>918</td>\n",
       "      <td>+91 9663487993</td>\n",
       "      <td>Banashankari</td>\n",
       "      <td>Cafe, Casual Dining</td>\n",
       "      <td>Churros, Cannelloni, Minestrone Soup, Hot Choc...</td>\n",
       "      <td>Cafe, Mexican, Italian</td>\n",
       "      <td>800</td>\n",
       "      <td>[('Rated 3.0', \"RATED\\n  Ambience is not that ...</td>\n",
       "      <td>[]</td>\n",
       "      <td>Buffet</td>\n",
       "      <td>Banashankari</td>\n",
       "    </tr>\n",
       "    <tr>\n",
       "      <th>3</th>\n",
       "      <td>https://www.zomato.com/bangalore/addhuri-udupi...</td>\n",
       "      <td>1st Floor, Annakuteera, 3rd Stage, Banashankar...</td>\n",
       "      <td>Addhuri Udupi Bhojana</td>\n",
       "      <td>No</td>\n",
       "      <td>No</td>\n",
       "      <td>3.7/5</td>\n",
       "      <td>88</td>\n",
       "      <td>+91 9620009302</td>\n",
       "      <td>Banashankari</td>\n",
       "      <td>Quick Bites</td>\n",
       "      <td>Masala Dosa</td>\n",
       "      <td>South Indian, North Indian</td>\n",
       "      <td>300</td>\n",
       "      <td>[('Rated 4.0', \"RATED\\n  Great food and proper...</td>\n",
       "      <td>[]</td>\n",
       "      <td>Buffet</td>\n",
       "      <td>Banashankari</td>\n",
       "    </tr>\n",
       "    <tr>\n",
       "      <th>4</th>\n",
       "      <td>https://www.zomato.com/bangalore/grand-village...</td>\n",
       "      <td>10, 3rd Floor, Lakshmi Associates, Gandhi Baza...</td>\n",
       "      <td>Grand Village</td>\n",
       "      <td>No</td>\n",
       "      <td>No</td>\n",
       "      <td>3.8/5</td>\n",
       "      <td>166</td>\n",
       "      <td>+91 8026612447\\r\\n+91 9901210005</td>\n",
       "      <td>Basavanagudi</td>\n",
       "      <td>Casual Dining</td>\n",
       "      <td>Panipuri, Gol Gappe</td>\n",
       "      <td>North Indian, Rajasthani</td>\n",
       "      <td>600</td>\n",
       "      <td>[('Rated 4.0', 'RATED\\n  Very good restaurant ...</td>\n",
       "      <td>[]</td>\n",
       "      <td>Buffet</td>\n",
       "      <td>Banashankari</td>\n",
       "    </tr>\n",
       "  </tbody>\n",
       "</table>\n",
       "</div>"
      ],
      "text/plain": [
       "                                                 url  \\\n",
       "0  https://www.zomato.com/bangalore/jalsa-banasha...   \n",
       "1  https://www.zomato.com/bangalore/spice-elephan...   \n",
       "2  https://www.zomato.com/SanchurroBangalore?cont...   \n",
       "3  https://www.zomato.com/bangalore/addhuri-udupi...   \n",
       "4  https://www.zomato.com/bangalore/grand-village...   \n",
       "\n",
       "                                             address                   name  \\\n",
       "0  942, 21st Main Road, 2nd Stage, Banashankari, ...                  Jalsa   \n",
       "1  2nd Floor, 80 Feet Road, Near Big Bazaar, 6th ...         Spice Elephant   \n",
       "2  1112, Next to KIMS Medical College, 17th Cross...        San Churro Cafe   \n",
       "3  1st Floor, Annakuteera, 3rd Stage, Banashankar...  Addhuri Udupi Bhojana   \n",
       "4  10, 3rd Floor, Lakshmi Associates, Gandhi Baza...          Grand Village   \n",
       "\n",
       "  online_order book_table   rate  votes                             phone  \\\n",
       "0          Yes        Yes  4.1/5    775    080 42297555\\r\\n+91 9743772233   \n",
       "1          Yes         No  4.1/5    787                      080 41714161   \n",
       "2          Yes         No  3.8/5    918                    +91 9663487993   \n",
       "3           No         No  3.7/5     88                    +91 9620009302   \n",
       "4           No         No  3.8/5    166  +91 8026612447\\r\\n+91 9901210005   \n",
       "\n",
       "       location            rest_type  \\\n",
       "0  Banashankari        Casual Dining   \n",
       "1  Banashankari        Casual Dining   \n",
       "2  Banashankari  Cafe, Casual Dining   \n",
       "3  Banashankari          Quick Bites   \n",
       "4  Basavanagudi        Casual Dining   \n",
       "\n",
       "                                          dish_liked  \\\n",
       "0  Pasta, Lunch Buffet, Masala Papad, Paneer Laja...   \n",
       "1  Momos, Lunch Buffet, Chocolate Nirvana, Thai G...   \n",
       "2  Churros, Cannelloni, Minestrone Soup, Hot Choc...   \n",
       "3                                        Masala Dosa   \n",
       "4                                Panipuri, Gol Gappe   \n",
       "\n",
       "                         cuisines approx_cost(for two people)  \\\n",
       "0  North Indian, Mughlai, Chinese                         800   \n",
       "1     Chinese, North Indian, Thai                         800   \n",
       "2          Cafe, Mexican, Italian                         800   \n",
       "3      South Indian, North Indian                         300   \n",
       "4        North Indian, Rajasthani                         600   \n",
       "\n",
       "                                        reviews_list menu_item  \\\n",
       "0  [('Rated 4.0', 'RATED\\n  A beautiful place to ...        []   \n",
       "1  [('Rated 4.0', 'RATED\\n  Had been here for din...        []   \n",
       "2  [('Rated 3.0', \"RATED\\n  Ambience is not that ...        []   \n",
       "3  [('Rated 4.0', \"RATED\\n  Great food and proper...        []   \n",
       "4  [('Rated 4.0', 'RATED\\n  Very good restaurant ...        []   \n",
       "\n",
       "  listed_in(type) listed_in(city)  \n",
       "0          Buffet    Banashankari  \n",
       "1          Buffet    Banashankari  \n",
       "2          Buffet    Banashankari  \n",
       "3          Buffet    Banashankari  \n",
       "4          Buffet    Banashankari  "
      ]
     },
     "execution_count": 3,
     "metadata": {},
     "output_type": "execute_result"
    }
   ],
   "source": [
    "zomato.head()"
   ]
  },
  {
   "cell_type": "code",
   "execution_count": 4,
   "metadata": {},
   "outputs": [
    {
     "data": {
      "text/plain": [
       "url                                0\n",
       "address                            0\n",
       "name                               0\n",
       "online_order                       0\n",
       "book_table                         0\n",
       "rate                            7775\n",
       "votes                              0\n",
       "phone                           1208\n",
       "location                          21\n",
       "rest_type                        227\n",
       "dish_liked                     28078\n",
       "cuisines                          45\n",
       "approx_cost(for two people)      346\n",
       "reviews_list                       0\n",
       "menu_item                          0\n",
       "listed_in(type)                    0\n",
       "listed_in(city)                    0\n",
       "dtype: int64"
      ]
     },
     "execution_count": 4,
     "metadata": {},
     "output_type": "execute_result"
    }
   ],
   "source": [
    "zomato.isnull().sum()"
   ]
  },
  {
   "cell_type": "code",
   "execution_count": 5,
   "metadata": {},
   "outputs": [
    {
     "data": {
      "text/plain": [
       "(51717, 17)"
      ]
     },
     "execution_count": 5,
     "metadata": {},
     "output_type": "execute_result"
    }
   ],
   "source": [
    "zomato.shape"
   ]
  },
  {
   "cell_type": "code",
   "execution_count": 6,
   "metadata": {},
   "outputs": [],
   "source": [
    "zomato.dropna(axis = 0, subset = ['location'], inplace = True)"
   ]
  },
  {
   "cell_type": "code",
   "execution_count": 7,
   "metadata": {},
   "outputs": [
    {
     "data": {
      "text/plain": [
       "(51696, 17)"
      ]
     },
     "execution_count": 7,
     "metadata": {},
     "output_type": "execute_result"
    }
   ],
   "source": [
    "zomato.shape"
   ]
  },
  {
   "cell_type": "code",
   "execution_count": 8,
   "metadata": {},
   "outputs": [
    {
     "data": {
      "text/plain": [
       "url                                0\n",
       "address                            0\n",
       "name                               0\n",
       "online_order                       0\n",
       "book_table                         0\n",
       "rate                            7754\n",
       "votes                              0\n",
       "phone                           1187\n",
       "location                           0\n",
       "rest_type                        206\n",
       "dish_liked                     28057\n",
       "cuisines                          24\n",
       "approx_cost(for two people)      325\n",
       "reviews_list                       0\n",
       "menu_item                          0\n",
       "listed_in(type)                    0\n",
       "listed_in(city)                    0\n",
       "dtype: int64"
      ]
     },
     "execution_count": 8,
     "metadata": {},
     "output_type": "execute_result"
    }
   ],
   "source": [
    "zomato.isnull().sum()"
   ]
  },
  {
   "cell_type": "code",
   "execution_count": 9,
   "metadata": {},
   "outputs": [
    {
     "data": {
      "text/plain": [
       "93"
      ]
     },
     "execution_count": 9,
     "metadata": {},
     "output_type": "execute_result"
    }
   ],
   "source": [
    "zomato['location'].nunique()"
   ]
  },
  {
   "cell_type": "code",
   "execution_count": 10,
   "metadata": {},
   "outputs": [],
   "source": [
    "locations = pd.DataFrame()"
   ]
  },
  {
   "cell_type": "code",
   "execution_count": 11,
   "metadata": {},
   "outputs": [],
   "source": [
    "locations['name'] = zomato['location'].unique()"
   ]
  },
  {
   "cell_type": "code",
   "execution_count": 12,
   "metadata": {},
   "outputs": [
    {
     "data": {
      "text/html": [
       "<div>\n",
       "<style scoped>\n",
       "    .dataframe tbody tr th:only-of-type {\n",
       "        vertical-align: middle;\n",
       "    }\n",
       "\n",
       "    .dataframe tbody tr th {\n",
       "        vertical-align: top;\n",
       "    }\n",
       "\n",
       "    .dataframe thead th {\n",
       "        text-align: right;\n",
       "    }\n",
       "</style>\n",
       "<table border=\"1\" class=\"dataframe\">\n",
       "  <thead>\n",
       "    <tr style=\"text-align: right;\">\n",
       "      <th></th>\n",
       "      <th>name</th>\n",
       "    </tr>\n",
       "  </thead>\n",
       "  <tbody>\n",
       "    <tr>\n",
       "      <th>0</th>\n",
       "      <td>Banashankari</td>\n",
       "    </tr>\n",
       "    <tr>\n",
       "      <th>1</th>\n",
       "      <td>Basavanagudi</td>\n",
       "    </tr>\n",
       "    <tr>\n",
       "      <th>2</th>\n",
       "      <td>Mysore Road</td>\n",
       "    </tr>\n",
       "    <tr>\n",
       "      <th>3</th>\n",
       "      <td>Jayanagar</td>\n",
       "    </tr>\n",
       "    <tr>\n",
       "      <th>4</th>\n",
       "      <td>Kumaraswamy Layout</td>\n",
       "    </tr>\n",
       "  </tbody>\n",
       "</table>\n",
       "</div>"
      ],
      "text/plain": [
       "                 name\n",
       "0        Banashankari\n",
       "1        Basavanagudi\n",
       "2         Mysore Road\n",
       "3           Jayanagar\n",
       "4  Kumaraswamy Layout"
      ]
     },
     "execution_count": 12,
     "metadata": {},
     "output_type": "execute_result"
    }
   ],
   "source": [
    "locations.head()"
   ]
  },
  {
   "cell_type": "code",
   "execution_count": 13,
   "metadata": {},
   "outputs": [
    {
     "name": "stdout",
     "output_type": "stream",
     "text": [
      "Requirement already satisfied: geopy in c:\\users\\hp 15\\appdata\\local\\programs\\python\\python36-32\\lib\\site-packages (2.1.0)"
     ]
    },
    {
     "name": "stderr",
     "output_type": "stream",
     "text": [
      "WARNING: You are using pip version 20.2.2; however, version 21.1.3 is available.\n",
      "You should consider upgrading via the 'c:\\users\\hp 15\\appdata\\local\\programs\\python\\python36-32\\python.exe -m pip install --upgrade pip' command.\n"
     ]
    },
    {
     "name": "stdout",
     "output_type": "stream",
     "text": [
      "\n",
      "Requirement already satisfied: geographiclib<2,>=1.49 in c:\\users\\hp 15\\appdata\\local\\programs\\python\\python36-32\\lib\\site-packages (from geopy) (1.52)\n"
     ]
    }
   ],
   "source": [
    "!pip install geopy"
   ]
  },
  {
   "cell_type": "markdown",
   "metadata": {},
   "source": [
    "## Extracting longitudes and latitudes from data\n",
    "Nominatim is a tool that helps to figure out all the latitudes and longitudes with respect to each and every location."
   ]
  },
  {
   "cell_type": "code",
   "execution_count": 14,
   "metadata": {},
   "outputs": [],
   "source": [
    "from geopy.geocoders import Nominatim"
   ]
  },
  {
   "cell_type": "code",
   "execution_count": 15,
   "metadata": {},
   "outputs": [],
   "source": [
    "geolocator = Nominatim(user_agent='app', timeout = None)"
   ]
  },
  {
   "cell_type": "code",
   "execution_count": 16,
   "metadata": {},
   "outputs": [],
   "source": [
    "lat=[]\n",
    "long=[]\n",
    "for location in locations['name']:\n",
    "    location = geolocator.geocode(location)\n",
    "    if location == None:\n",
    "        lat.append(np.nan)\n",
    "        long.append(np.nan)\n",
    "    else:\n",
    "        lat.append(location.latitude)\n",
    "        long.append(location.longitude)"
   ]
  },
  {
   "cell_type": "code",
   "execution_count": 17,
   "metadata": {},
   "outputs": [],
   "source": [
    "locations['latitude'] = lat\n",
    "locations['longitude'] = long"
   ]
  },
  {
   "cell_type": "code",
   "execution_count": 18,
   "metadata": {},
   "outputs": [
    {
     "data": {
      "text/html": [
       "<div>\n",
       "<style scoped>\n",
       "    .dataframe tbody tr th:only-of-type {\n",
       "        vertical-align: middle;\n",
       "    }\n",
       "\n",
       "    .dataframe tbody tr th {\n",
       "        vertical-align: top;\n",
       "    }\n",
       "\n",
       "    .dataframe thead th {\n",
       "        text-align: right;\n",
       "    }\n",
       "</style>\n",
       "<table border=\"1\" class=\"dataframe\">\n",
       "  <thead>\n",
       "    <tr style=\"text-align: right;\">\n",
       "      <th></th>\n",
       "      <th>name</th>\n",
       "      <th>latitude</th>\n",
       "      <th>longitude</th>\n",
       "    </tr>\n",
       "  </thead>\n",
       "  <tbody>\n",
       "    <tr>\n",
       "      <th>0</th>\n",
       "      <td>Banashankari</td>\n",
       "      <td>15.887678</td>\n",
       "      <td>75.704678</td>\n",
       "    </tr>\n",
       "    <tr>\n",
       "      <th>1</th>\n",
       "      <td>Basavanagudi</td>\n",
       "      <td>12.941726</td>\n",
       "      <td>77.575502</td>\n",
       "    </tr>\n",
       "    <tr>\n",
       "      <th>2</th>\n",
       "      <td>Mysore Road</td>\n",
       "      <td>12.387214</td>\n",
       "      <td>76.666963</td>\n",
       "    </tr>\n",
       "    <tr>\n",
       "      <th>3</th>\n",
       "      <td>Jayanagar</td>\n",
       "      <td>27.643927</td>\n",
       "      <td>83.052805</td>\n",
       "    </tr>\n",
       "    <tr>\n",
       "      <th>4</th>\n",
       "      <td>Kumaraswamy Layout</td>\n",
       "      <td>12.908149</td>\n",
       "      <td>77.555318</td>\n",
       "    </tr>\n",
       "    <tr>\n",
       "      <th>...</th>\n",
       "      <td>...</td>\n",
       "      <td>...</td>\n",
       "      <td>...</td>\n",
       "    </tr>\n",
       "    <tr>\n",
       "      <th>88</th>\n",
       "      <td>West Bangalore</td>\n",
       "      <td>13.001129</td>\n",
       "      <td>77.632562</td>\n",
       "    </tr>\n",
       "    <tr>\n",
       "      <th>89</th>\n",
       "      <td>Magadi Road</td>\n",
       "      <td>12.945048</td>\n",
       "      <td>77.263004</td>\n",
       "    </tr>\n",
       "    <tr>\n",
       "      <th>90</th>\n",
       "      <td>Yelahanka</td>\n",
       "      <td>13.100698</td>\n",
       "      <td>77.596345</td>\n",
       "    </tr>\n",
       "    <tr>\n",
       "      <th>91</th>\n",
       "      <td>Sahakara Nagar</td>\n",
       "      <td>13.062147</td>\n",
       "      <td>77.580061</td>\n",
       "    </tr>\n",
       "    <tr>\n",
       "      <th>92</th>\n",
       "      <td>Peenya</td>\n",
       "      <td>13.032942</td>\n",
       "      <td>77.527325</td>\n",
       "    </tr>\n",
       "  </tbody>\n",
       "</table>\n",
       "<p>93 rows × 3 columns</p>\n",
       "</div>"
      ],
      "text/plain": [
       "                  name   latitude  longitude\n",
       "0         Banashankari  15.887678  75.704678\n",
       "1         Basavanagudi  12.941726  77.575502\n",
       "2          Mysore Road  12.387214  76.666963\n",
       "3            Jayanagar  27.643927  83.052805\n",
       "4   Kumaraswamy Layout  12.908149  77.555318\n",
       "..                 ...        ...        ...\n",
       "88      West Bangalore  13.001129  77.632562\n",
       "89         Magadi Road  12.945048  77.263004\n",
       "90           Yelahanka  13.100698  77.596345\n",
       "91      Sahakara Nagar  13.062147  77.580061\n",
       "92              Peenya  13.032942  77.527325\n",
       "\n",
       "[93 rows x 3 columns]"
      ]
     },
     "execution_count": 18,
     "metadata": {},
     "output_type": "execute_result"
    }
   ],
   "source": [
    "locations"
   ]
  },
  {
   "cell_type": "code",
   "execution_count": 19,
   "metadata": {},
   "outputs": [],
   "source": [
    "zomat = zomato['location'].value_counts().reset_index()"
   ]
  },
  {
   "cell_type": "code",
   "execution_count": 20,
   "metadata": {},
   "outputs": [],
   "source": [
    "zomat.columns = ['name', 'count']"
   ]
  },
  {
   "cell_type": "code",
   "execution_count": 21,
   "metadata": {},
   "outputs": [
    {
     "data": {
      "text/html": [
       "<div>\n",
       "<style scoped>\n",
       "    .dataframe tbody tr th:only-of-type {\n",
       "        vertical-align: middle;\n",
       "    }\n",
       "\n",
       "    .dataframe tbody tr th {\n",
       "        vertical-align: top;\n",
       "    }\n",
       "\n",
       "    .dataframe thead th {\n",
       "        text-align: right;\n",
       "    }\n",
       "</style>\n",
       "<table border=\"1\" class=\"dataframe\">\n",
       "  <thead>\n",
       "    <tr style=\"text-align: right;\">\n",
       "      <th></th>\n",
       "      <th>name</th>\n",
       "      <th>count</th>\n",
       "    </tr>\n",
       "  </thead>\n",
       "  <tbody>\n",
       "    <tr>\n",
       "      <th>0</th>\n",
       "      <td>BTM</td>\n",
       "      <td>5124</td>\n",
       "    </tr>\n",
       "    <tr>\n",
       "      <th>1</th>\n",
       "      <td>HSR</td>\n",
       "      <td>2523</td>\n",
       "    </tr>\n",
       "    <tr>\n",
       "      <th>2</th>\n",
       "      <td>Koramangala 5th Block</td>\n",
       "      <td>2504</td>\n",
       "    </tr>\n",
       "    <tr>\n",
       "      <th>3</th>\n",
       "      <td>JP Nagar</td>\n",
       "      <td>2235</td>\n",
       "    </tr>\n",
       "    <tr>\n",
       "      <th>4</th>\n",
       "      <td>Whitefield</td>\n",
       "      <td>2144</td>\n",
       "    </tr>\n",
       "  </tbody>\n",
       "</table>\n",
       "</div>"
      ],
      "text/plain": [
       "                    name  count\n",
       "0                    BTM   5124\n",
       "1                    HSR   2523\n",
       "2  Koramangala 5th Block   2504\n",
       "3               JP Nagar   2235\n",
       "4             Whitefield   2144"
      ]
     },
     "execution_count": 21,
     "metadata": {},
     "output_type": "execute_result"
    }
   ],
   "source": [
    "zomat.head()"
   ]
  },
  {
   "cell_type": "code",
   "execution_count": 22,
   "metadata": {},
   "outputs": [],
   "source": [
    "zomato_location = zomat.merge(locations, on =  'name', how = 'left').dropna()"
   ]
  },
  {
   "cell_type": "code",
   "execution_count": 23,
   "metadata": {},
   "outputs": [
    {
     "data": {
      "text/plain": [
       "(92, 4)"
      ]
     },
     "execution_count": 23,
     "metadata": {},
     "output_type": "execute_result"
    }
   ],
   "source": [
    "zomato_location.shape"
   ]
  },
  {
   "cell_type": "code",
   "execution_count": 28,
   "metadata": {},
   "outputs": [
    {
     "data": {
      "text/html": [
       "<div>\n",
       "<style scoped>\n",
       "    .dataframe tbody tr th:only-of-type {\n",
       "        vertical-align: middle;\n",
       "    }\n",
       "\n",
       "    .dataframe tbody tr th {\n",
       "        vertical-align: top;\n",
       "    }\n",
       "\n",
       "    .dataframe thead th {\n",
       "        text-align: right;\n",
       "    }\n",
       "</style>\n",
       "<table border=\"1\" class=\"dataframe\">\n",
       "  <thead>\n",
       "    <tr style=\"text-align: right;\">\n",
       "      <th></th>\n",
       "      <th>name</th>\n",
       "      <th>count</th>\n",
       "      <th>latitude</th>\n",
       "      <th>longitude</th>\n",
       "    </tr>\n",
       "  </thead>\n",
       "  <tbody>\n",
       "    <tr>\n",
       "      <th>0</th>\n",
       "      <td>BTM</td>\n",
       "      <td>5124</td>\n",
       "      <td>45.954851</td>\n",
       "      <td>-112.496595</td>\n",
       "    </tr>\n",
       "    <tr>\n",
       "      <th>1</th>\n",
       "      <td>HSR</td>\n",
       "      <td>2523</td>\n",
       "      <td>18.147500</td>\n",
       "      <td>41.538889</td>\n",
       "    </tr>\n",
       "    <tr>\n",
       "      <th>2</th>\n",
       "      <td>Koramangala 5th Block</td>\n",
       "      <td>2504</td>\n",
       "      <td>12.934377</td>\n",
       "      <td>77.628415</td>\n",
       "    </tr>\n",
       "    <tr>\n",
       "      <th>3</th>\n",
       "      <td>JP Nagar</td>\n",
       "      <td>2235</td>\n",
       "      <td>12.265594</td>\n",
       "      <td>76.646540</td>\n",
       "    </tr>\n",
       "    <tr>\n",
       "      <th>4</th>\n",
       "      <td>Whitefield</td>\n",
       "      <td>2144</td>\n",
       "      <td>44.373058</td>\n",
       "      <td>-71.611858</td>\n",
       "    </tr>\n",
       "    <tr>\n",
       "      <th>5</th>\n",
       "      <td>Indiranagar</td>\n",
       "      <td>2083</td>\n",
       "      <td>12.973291</td>\n",
       "      <td>77.640467</td>\n",
       "    </tr>\n",
       "    <tr>\n",
       "      <th>6</th>\n",
       "      <td>Jayanagar</td>\n",
       "      <td>1926</td>\n",
       "      <td>27.643927</td>\n",
       "      <td>83.052805</td>\n",
       "    </tr>\n",
       "    <tr>\n",
       "      <th>7</th>\n",
       "      <td>Marathahalli</td>\n",
       "      <td>1846</td>\n",
       "      <td>12.955257</td>\n",
       "      <td>77.698416</td>\n",
       "    </tr>\n",
       "    <tr>\n",
       "      <th>8</th>\n",
       "      <td>Bannerghatta Road</td>\n",
       "      <td>1630</td>\n",
       "      <td>12.887055</td>\n",
       "      <td>77.596948</td>\n",
       "    </tr>\n",
       "    <tr>\n",
       "      <th>9</th>\n",
       "      <td>Bellandur</td>\n",
       "      <td>1286</td>\n",
       "      <td>12.935772</td>\n",
       "      <td>77.666761</td>\n",
       "    </tr>\n",
       "  </tbody>\n",
       "</table>\n",
       "</div>"
      ],
      "text/plain": [
       "                    name  count   latitude   longitude\n",
       "0                    BTM   5124  45.954851 -112.496595\n",
       "1                    HSR   2523  18.147500   41.538889\n",
       "2  Koramangala 5th Block   2504  12.934377   77.628415\n",
       "3               JP Nagar   2235  12.265594   76.646540\n",
       "4             Whitefield   2144  44.373058  -71.611858\n",
       "5            Indiranagar   2083  12.973291   77.640467\n",
       "6              Jayanagar   1926  27.643927   83.052805\n",
       "7           Marathahalli   1846  12.955257   77.698416\n",
       "8      Bannerghatta Road   1630  12.887055   77.596948\n",
       "9              Bellandur   1286  12.935772   77.666761"
      ]
     },
     "execution_count": 28,
     "metadata": {},
     "output_type": "execute_result"
    }
   ],
   "source": [
    "zomato_location.head(10)"
   ]
  },
  {
   "cell_type": "code",
   "execution_count": 41,
   "metadata": {},
   "outputs": [
    {
     "name": "stdout",
     "output_type": "stream",
     "text": [
      "Collecting folium"
     ]
    },
    {
     "name": "stderr",
     "output_type": "stream",
     "text": [
      "  WARNING: Retrying (Retry(total=4, connect=None, read=None, redirect=None, status=None)) after connection broken by 'ReadTimeoutError(\"HTTPSConnectionPool(host='files.pythonhosted.org', port=443): Read timed out. (read timeout=15)\",)': /packages/c3/83/e8cb37afc2f016a1cf4caab8d22caf7fe4156c4c15230d8abc9c83547e0c/folium-0.12.1-py2.py3-none-any.whl\n",
      "  WARNING: Retrying (Retry(total=3, connect=None, read=None, redirect=None, status=None)) after connection broken by 'ReadTimeoutError(\"HTTPSConnectionPool(host='files.pythonhosted.org', port=443): Read timed out. (read timeout=15)\",)': /packages/c3/83/e8cb37afc2f016a1cf4caab8d22caf7fe4156c4c15230d8abc9c83547e0c/folium-0.12.1-py2.py3-none-any.whl\n",
      "WARNING: You are using pip version 20.2.2; however, version 21.1.3 is available.\n",
      "You should consider upgrading via the 'c:\\users\\hp 15\\appdata\\local\\programs\\python\\python36-32\\python.exe -m pip install --upgrade pip' command.\n"
     ]
    },
    {
     "name": "stdout",
     "output_type": "stream",
     "text": [
      "\n",
      "  Downloading folium-0.12.1-py2.py3-none-any.whl (94 kB)\n",
      "Requirement already satisfied: requests in c:\\users\\hp 15\\appdata\\local\\programs\\python\\python36-32\\lib\\site-packages (from folium) (2.25.1)\n",
      "Requirement already satisfied: jinja2>=2.9 in c:\\users\\hp 15\\appdata\\local\\programs\\python\\python36-32\\lib\\site-packages (from folium) (2.11.2)\n",
      "Collecting branca>=0.3.0\n",
      "  Downloading branca-0.4.2-py3-none-any.whl (24 kB)\n",
      "Requirement already satisfied: numpy in c:\\users\\hp 15\\appdata\\local\\programs\\python\\python36-32\\lib\\site-packages (from folium) (1.18.5)\n",
      "Requirement already satisfied: chardet<5,>=3.0.2 in c:\\users\\hp 15\\appdata\\local\\programs\\python\\python36-32\\lib\\site-packages (from requests->folium) (4.0.0)\n",
      "Requirement already satisfied: idna<3,>=2.5 in c:\\users\\hp 15\\appdata\\local\\programs\\python\\python36-32\\lib\\site-packages (from requests->folium) (2.10)\n",
      "Requirement already satisfied: certifi>=2017.4.17 in c:\\users\\hp 15\\appdata\\local\\programs\\python\\python36-32\\lib\\site-packages (from requests->folium) (2020.12.5)\n",
      "Requirement already satisfied: urllib3<1.27,>=1.21.1 in c:\\users\\hp 15\\appdata\\local\\programs\\python\\python36-32\\lib\\site-packages (from requests->folium) (1.26.4)\n",
      "Requirement already satisfied: MarkupSafe>=0.23 in c:\\users\\hp 15\\appdata\\local\\programs\\python\\python36-32\\lib\\site-packages (from jinja2>=2.9->folium) (1.1.1)\n",
      "Installing collected packages: branca, folium\n",
      "Successfully installed branca-0.4.2 folium-0.12.1\n"
     ]
    }
   ],
   "source": [
    "!pip install folium"
   ]
  },
  {
   "cell_type": "code",
   "execution_count": 51,
   "metadata": {},
   "outputs": [],
   "source": [
    "def generatebasemap(default_location = [12.95, 77.69], default_zoom_start = 12):\n",
    "    basemap = folium.Map(location = default_location, zoom_start = default_zoom_start)\n",
    "    return basemap"
   ]
  },
  {
   "cell_type": "code",
   "execution_count": 52,
   "metadata": {},
   "outputs": [
    {
     "data": {
      "text/html": [
       "<div style=\"width:100%;\"><div style=\"position:relative;width:100%;height:0;padding-bottom:60%;\"><span style=\"color:#565656\">Make this Notebook Trusted to load map: File -> Trust Notebook</span><iframe src=\"about:blank\" style=\"position:absolute;width:100%;height:100%;left:0;top:0;border:none !important;\" data-html=%3C%21DOCTYPE%20html%3E%0A%3Chead%3E%20%20%20%20%0A%20%20%20%20%3Cmeta%20http-equiv%3D%22content-type%22%20content%3D%22text/html%3B%20charset%3DUTF-8%22%20/%3E%0A%20%20%20%20%0A%20%20%20%20%20%20%20%20%3Cscript%3E%0A%20%20%20%20%20%20%20%20%20%20%20%20L_NO_TOUCH%20%3D%20false%3B%0A%20%20%20%20%20%20%20%20%20%20%20%20L_DISABLE_3D%20%3D%20false%3B%0A%20%20%20%20%20%20%20%20%3C/script%3E%0A%20%20%20%20%0A%20%20%20%20%3Cstyle%3Ehtml%2C%20body%20%7Bwidth%3A%20100%25%3Bheight%3A%20100%25%3Bmargin%3A%200%3Bpadding%3A%200%3B%7D%3C/style%3E%0A%20%20%20%20%3Cstyle%3E%23map%20%7Bposition%3Aabsolute%3Btop%3A0%3Bbottom%3A0%3Bright%3A0%3Bleft%3A0%3B%7D%3C/style%3E%0A%20%20%20%20%3Cscript%20src%3D%22https%3A//cdn.jsdelivr.net/npm/leaflet%401.6.0/dist/leaflet.js%22%3E%3C/script%3E%0A%20%20%20%20%3Cscript%20src%3D%22https%3A//code.jquery.com/jquery-1.12.4.min.js%22%3E%3C/script%3E%0A%20%20%20%20%3Cscript%20src%3D%22https%3A//maxcdn.bootstrapcdn.com/bootstrap/3.2.0/js/bootstrap.min.js%22%3E%3C/script%3E%0A%20%20%20%20%3Cscript%20src%3D%22https%3A//cdnjs.cloudflare.com/ajax/libs/Leaflet.awesome-markers/2.0.2/leaflet.awesome-markers.js%22%3E%3C/script%3E%0A%20%20%20%20%3Clink%20rel%3D%22stylesheet%22%20href%3D%22https%3A//cdn.jsdelivr.net/npm/leaflet%401.6.0/dist/leaflet.css%22/%3E%0A%20%20%20%20%3Clink%20rel%3D%22stylesheet%22%20href%3D%22https%3A//maxcdn.bootstrapcdn.com/bootstrap/3.2.0/css/bootstrap.min.css%22/%3E%0A%20%20%20%20%3Clink%20rel%3D%22stylesheet%22%20href%3D%22https%3A//maxcdn.bootstrapcdn.com/bootstrap/3.2.0/css/bootstrap-theme.min.css%22/%3E%0A%20%20%20%20%3Clink%20rel%3D%22stylesheet%22%20href%3D%22https%3A//maxcdn.bootstrapcdn.com/font-awesome/4.6.3/css/font-awesome.min.css%22/%3E%0A%20%20%20%20%3Clink%20rel%3D%22stylesheet%22%20href%3D%22https%3A//cdnjs.cloudflare.com/ajax/libs/Leaflet.awesome-markers/2.0.2/leaflet.awesome-markers.css%22/%3E%0A%20%20%20%20%3Clink%20rel%3D%22stylesheet%22%20href%3D%22https%3A//cdn.jsdelivr.net/gh/python-visualization/folium/folium/templates/leaflet.awesome.rotate.min.css%22/%3E%0A%20%20%20%20%0A%20%20%20%20%20%20%20%20%20%20%20%20%3Cmeta%20name%3D%22viewport%22%20content%3D%22width%3Ddevice-width%2C%0A%20%20%20%20%20%20%20%20%20%20%20%20%20%20%20%20initial-scale%3D1.0%2C%20maximum-scale%3D1.0%2C%20user-scalable%3Dno%22%20/%3E%0A%20%20%20%20%20%20%20%20%20%20%20%20%3Cstyle%3E%0A%20%20%20%20%20%20%20%20%20%20%20%20%20%20%20%20%23map_ede3f3d1a96d4bf18cdc26fe730b25cd%20%7B%0A%20%20%20%20%20%20%20%20%20%20%20%20%20%20%20%20%20%20%20%20position%3A%20relative%3B%0A%20%20%20%20%20%20%20%20%20%20%20%20%20%20%20%20%20%20%20%20width%3A%20100.0%25%3B%0A%20%20%20%20%20%20%20%20%20%20%20%20%20%20%20%20%20%20%20%20height%3A%20100.0%25%3B%0A%20%20%20%20%20%20%20%20%20%20%20%20%20%20%20%20%20%20%20%20left%3A%200.0%25%3B%0A%20%20%20%20%20%20%20%20%20%20%20%20%20%20%20%20%20%20%20%20top%3A%200.0%25%3B%0A%20%20%20%20%20%20%20%20%20%20%20%20%20%20%20%20%7D%0A%20%20%20%20%20%20%20%20%20%20%20%20%3C/style%3E%0A%20%20%20%20%20%20%20%20%0A%3C/head%3E%0A%3Cbody%3E%20%20%20%20%0A%20%20%20%20%0A%20%20%20%20%20%20%20%20%20%20%20%20%3Cdiv%20class%3D%22folium-map%22%20id%3D%22map_ede3f3d1a96d4bf18cdc26fe730b25cd%22%20%3E%3C/div%3E%0A%20%20%20%20%20%20%20%20%0A%3C/body%3E%0A%3Cscript%3E%20%20%20%20%0A%20%20%20%20%0A%20%20%20%20%20%20%20%20%20%20%20%20var%20map_ede3f3d1a96d4bf18cdc26fe730b25cd%20%3D%20L.map%28%0A%20%20%20%20%20%20%20%20%20%20%20%20%20%20%20%20%22map_ede3f3d1a96d4bf18cdc26fe730b25cd%22%2C%0A%20%20%20%20%20%20%20%20%20%20%20%20%20%20%20%20%7B%0A%20%20%20%20%20%20%20%20%20%20%20%20%20%20%20%20%20%20%20%20center%3A%20%5B12.95%2C%2077.69%5D%2C%0A%20%20%20%20%20%20%20%20%20%20%20%20%20%20%20%20%20%20%20%20crs%3A%20L.CRS.EPSG3857%2C%0A%20%20%20%20%20%20%20%20%20%20%20%20%20%20%20%20%20%20%20%20zoom%3A%2012%2C%0A%20%20%20%20%20%20%20%20%20%20%20%20%20%20%20%20%20%20%20%20zoomControl%3A%20true%2C%0A%20%20%20%20%20%20%20%20%20%20%20%20%20%20%20%20%20%20%20%20preferCanvas%3A%20false%2C%0A%20%20%20%20%20%20%20%20%20%20%20%20%20%20%20%20%7D%0A%20%20%20%20%20%20%20%20%20%20%20%20%29%3B%0A%0A%20%20%20%20%20%20%20%20%20%20%20%20%0A%0A%20%20%20%20%20%20%20%20%0A%20%20%20%20%0A%20%20%20%20%20%20%20%20%20%20%20%20var%20tile_layer_568486f64a554643af91dcc923a049f4%20%3D%20L.tileLayer%28%0A%20%20%20%20%20%20%20%20%20%20%20%20%20%20%20%20%22https%3A//%7Bs%7D.tile.openstreetmap.org/%7Bz%7D/%7Bx%7D/%7By%7D.png%22%2C%0A%20%20%20%20%20%20%20%20%20%20%20%20%20%20%20%20%7B%22attribution%22%3A%20%22Data%20by%20%5Cu0026copy%3B%20%5Cu003ca%20href%3D%5C%22http%3A//openstreetmap.org%5C%22%5Cu003eOpenStreetMap%5Cu003c/a%5Cu003e%2C%20under%20%5Cu003ca%20href%3D%5C%22http%3A//www.openstreetmap.org/copyright%5C%22%5Cu003eODbL%5Cu003c/a%5Cu003e.%22%2C%20%22detectRetina%22%3A%20false%2C%20%22maxNativeZoom%22%3A%2018%2C%20%22maxZoom%22%3A%2018%2C%20%22minZoom%22%3A%200%2C%20%22noWrap%22%3A%20false%2C%20%22opacity%22%3A%201%2C%20%22subdomains%22%3A%20%22abc%22%2C%20%22tms%22%3A%20false%7D%0A%20%20%20%20%20%20%20%20%20%20%20%20%29.addTo%28map_ede3f3d1a96d4bf18cdc26fe730b25cd%29%3B%0A%20%20%20%20%20%20%20%20%0A%3C/script%3E onload=\"this.contentDocument.open();this.contentDocument.write(    decodeURIComponent(this.getAttribute('data-html')));this.contentDocument.close();\" allowfullscreen webkitallowfullscreen mozallowfullscreen></iframe></div></div>"
      ],
      "text/plain": [
       "<folium.folium.Map at 0xcf7a130>"
      ]
     },
     "execution_count": 52,
     "metadata": {},
     "output_type": "execute_result"
    }
   ],
   "source": [
    "import folium\n",
    "basemap = generatebasemap()\n",
    "basemap"
   ]
  },
  {
   "cell_type": "code",
   "execution_count": 53,
   "metadata": {},
   "outputs": [
    {
     "data": {
      "text/plain": [
       "<folium.plugins.heat_map.HeatMap at 0xcf7add0>"
      ]
     },
     "execution_count": 53,
     "metadata": {},
     "output_type": "execute_result"
    }
   ],
   "source": [
    "from folium.plugins import HeatMap\n",
    "HeatMap(zomato_location[['latitude', 'longitude', 'count']],zoom = 20).add_to(basemap)"
   ]
  },
  {
   "cell_type": "code",
   "execution_count": 54,
   "metadata": {},
   "outputs": [
    {
     "data": {
      "text/html": [
       "<div style=\"width:100%;\"><div style=\"position:relative;width:100%;height:0;padding-bottom:60%;\"><span style=\"color:#565656\">Make this Notebook Trusted to load map: File -> Trust Notebook</span><iframe src=\"about:blank\" style=\"position:absolute;width:100%;height:100%;left:0;top:0;border:none !important;\" data-html=%3C%21DOCTYPE%20html%3E%0A%3Chead%3E%20%20%20%20%0A%20%20%20%20%3Cmeta%20http-equiv%3D%22content-type%22%20content%3D%22text/html%3B%20charset%3DUTF-8%22%20/%3E%0A%20%20%20%20%0A%20%20%20%20%20%20%20%20%3Cscript%3E%0A%20%20%20%20%20%20%20%20%20%20%20%20L_NO_TOUCH%20%3D%20false%3B%0A%20%20%20%20%20%20%20%20%20%20%20%20L_DISABLE_3D%20%3D%20false%3B%0A%20%20%20%20%20%20%20%20%3C/script%3E%0A%20%20%20%20%0A%20%20%20%20%3Cstyle%3Ehtml%2C%20body%20%7Bwidth%3A%20100%25%3Bheight%3A%20100%25%3Bmargin%3A%200%3Bpadding%3A%200%3B%7D%3C/style%3E%0A%20%20%20%20%3Cstyle%3E%23map%20%7Bposition%3Aabsolute%3Btop%3A0%3Bbottom%3A0%3Bright%3A0%3Bleft%3A0%3B%7D%3C/style%3E%0A%20%20%20%20%3Cscript%20src%3D%22https%3A//cdn.jsdelivr.net/npm/leaflet%401.6.0/dist/leaflet.js%22%3E%3C/script%3E%0A%20%20%20%20%3Cscript%20src%3D%22https%3A//code.jquery.com/jquery-1.12.4.min.js%22%3E%3C/script%3E%0A%20%20%20%20%3Cscript%20src%3D%22https%3A//maxcdn.bootstrapcdn.com/bootstrap/3.2.0/js/bootstrap.min.js%22%3E%3C/script%3E%0A%20%20%20%20%3Cscript%20src%3D%22https%3A//cdnjs.cloudflare.com/ajax/libs/Leaflet.awesome-markers/2.0.2/leaflet.awesome-markers.js%22%3E%3C/script%3E%0A%20%20%20%20%3Clink%20rel%3D%22stylesheet%22%20href%3D%22https%3A//cdn.jsdelivr.net/npm/leaflet%401.6.0/dist/leaflet.css%22/%3E%0A%20%20%20%20%3Clink%20rel%3D%22stylesheet%22%20href%3D%22https%3A//maxcdn.bootstrapcdn.com/bootstrap/3.2.0/css/bootstrap.min.css%22/%3E%0A%20%20%20%20%3Clink%20rel%3D%22stylesheet%22%20href%3D%22https%3A//maxcdn.bootstrapcdn.com/bootstrap/3.2.0/css/bootstrap-theme.min.css%22/%3E%0A%20%20%20%20%3Clink%20rel%3D%22stylesheet%22%20href%3D%22https%3A//maxcdn.bootstrapcdn.com/font-awesome/4.6.3/css/font-awesome.min.css%22/%3E%0A%20%20%20%20%3Clink%20rel%3D%22stylesheet%22%20href%3D%22https%3A//cdnjs.cloudflare.com/ajax/libs/Leaflet.awesome-markers/2.0.2/leaflet.awesome-markers.css%22/%3E%0A%20%20%20%20%3Clink%20rel%3D%22stylesheet%22%20href%3D%22https%3A//cdn.jsdelivr.net/gh/python-visualization/folium/folium/templates/leaflet.awesome.rotate.min.css%22/%3E%0A%20%20%20%20%0A%20%20%20%20%20%20%20%20%20%20%20%20%3Cmeta%20name%3D%22viewport%22%20content%3D%22width%3Ddevice-width%2C%0A%20%20%20%20%20%20%20%20%20%20%20%20%20%20%20%20initial-scale%3D1.0%2C%20maximum-scale%3D1.0%2C%20user-scalable%3Dno%22%20/%3E%0A%20%20%20%20%20%20%20%20%20%20%20%20%3Cstyle%3E%0A%20%20%20%20%20%20%20%20%20%20%20%20%20%20%20%20%23map_ede3f3d1a96d4bf18cdc26fe730b25cd%20%7B%0A%20%20%20%20%20%20%20%20%20%20%20%20%20%20%20%20%20%20%20%20position%3A%20relative%3B%0A%20%20%20%20%20%20%20%20%20%20%20%20%20%20%20%20%20%20%20%20width%3A%20100.0%25%3B%0A%20%20%20%20%20%20%20%20%20%20%20%20%20%20%20%20%20%20%20%20height%3A%20100.0%25%3B%0A%20%20%20%20%20%20%20%20%20%20%20%20%20%20%20%20%20%20%20%20left%3A%200.0%25%3B%0A%20%20%20%20%20%20%20%20%20%20%20%20%20%20%20%20%20%20%20%20top%3A%200.0%25%3B%0A%20%20%20%20%20%20%20%20%20%20%20%20%20%20%20%20%7D%0A%20%20%20%20%20%20%20%20%20%20%20%20%3C/style%3E%0A%20%20%20%20%20%20%20%20%0A%20%20%20%20%3Cscript%20src%3D%22https%3A//cdn.jsdelivr.net/gh/python-visualization/folium%40master/folium/templates/leaflet_heat.min.js%22%3E%3C/script%3E%0A%3C/head%3E%0A%3Cbody%3E%20%20%20%20%0A%20%20%20%20%0A%20%20%20%20%20%20%20%20%20%20%20%20%3Cdiv%20class%3D%22folium-map%22%20id%3D%22map_ede3f3d1a96d4bf18cdc26fe730b25cd%22%20%3E%3C/div%3E%0A%20%20%20%20%20%20%20%20%0A%3C/body%3E%0A%3Cscript%3E%20%20%20%20%0A%20%20%20%20%0A%20%20%20%20%20%20%20%20%20%20%20%20var%20map_ede3f3d1a96d4bf18cdc26fe730b25cd%20%3D%20L.map%28%0A%20%20%20%20%20%20%20%20%20%20%20%20%20%20%20%20%22map_ede3f3d1a96d4bf18cdc26fe730b25cd%22%2C%0A%20%20%20%20%20%20%20%20%20%20%20%20%20%20%20%20%7B%0A%20%20%20%20%20%20%20%20%20%20%20%20%20%20%20%20%20%20%20%20center%3A%20%5B12.95%2C%2077.69%5D%2C%0A%20%20%20%20%20%20%20%20%20%20%20%20%20%20%20%20%20%20%20%20crs%3A%20L.CRS.EPSG3857%2C%0A%20%20%20%20%20%20%20%20%20%20%20%20%20%20%20%20%20%20%20%20zoom%3A%2012%2C%0A%20%20%20%20%20%20%20%20%20%20%20%20%20%20%20%20%20%20%20%20zoomControl%3A%20true%2C%0A%20%20%20%20%20%20%20%20%20%20%20%20%20%20%20%20%20%20%20%20preferCanvas%3A%20false%2C%0A%20%20%20%20%20%20%20%20%20%20%20%20%20%20%20%20%7D%0A%20%20%20%20%20%20%20%20%20%20%20%20%29%3B%0A%0A%20%20%20%20%20%20%20%20%20%20%20%20%0A%0A%20%20%20%20%20%20%20%20%0A%20%20%20%20%0A%20%20%20%20%20%20%20%20%20%20%20%20var%20tile_layer_568486f64a554643af91dcc923a049f4%20%3D%20L.tileLayer%28%0A%20%20%20%20%20%20%20%20%20%20%20%20%20%20%20%20%22https%3A//%7Bs%7D.tile.openstreetmap.org/%7Bz%7D/%7Bx%7D/%7By%7D.png%22%2C%0A%20%20%20%20%20%20%20%20%20%20%20%20%20%20%20%20%7B%22attribution%22%3A%20%22Data%20by%20%5Cu0026copy%3B%20%5Cu003ca%20href%3D%5C%22http%3A//openstreetmap.org%5C%22%5Cu003eOpenStreetMap%5Cu003c/a%5Cu003e%2C%20under%20%5Cu003ca%20href%3D%5C%22http%3A//www.openstreetmap.org/copyright%5C%22%5Cu003eODbL%5Cu003c/a%5Cu003e.%22%2C%20%22detectRetina%22%3A%20false%2C%20%22maxNativeZoom%22%3A%2018%2C%20%22maxZoom%22%3A%2018%2C%20%22minZoom%22%3A%200%2C%20%22noWrap%22%3A%20false%2C%20%22opacity%22%3A%201%2C%20%22subdomains%22%3A%20%22abc%22%2C%20%22tms%22%3A%20false%7D%0A%20%20%20%20%20%20%20%20%20%20%20%20%29.addTo%28map_ede3f3d1a96d4bf18cdc26fe730b25cd%29%3B%0A%20%20%20%20%20%20%20%20%0A%20%20%20%20%0A%20%20%20%20%20%20%20%20%20%20%20%20var%20heat_map_dc50c5b40e4146e8967211a05f29db99%20%3D%20L.heatLayer%28%0A%20%20%20%20%20%20%20%20%20%20%20%20%20%20%20%20%5B%5B45.95485055%2C%20-112.49659530324134%2C%205124.0%5D%2C%20%5B18.1475%2C%2041.538889%2C%202523.0%5D%2C%20%5B12.9343774%2C%2077.628415%2C%202504.0%5D%2C%20%5B12.2655944%2C%2076.6465404%2C%202235.0%5D%2C%20%5B44.3730577%2C%20-71.6118577%2C%202144.0%5D%2C%20%5B12.9732913%2C%2077.6404672%2C%202083.0%5D%2C%20%5B27.64392675%2C%2083.05280519687284%2C%201926.0%5D%2C%20%5B12.9552572%2C%2077.6984163%2C%201846.0%5D%2C%20%5B12.8870547%2C%2077.5969483%2C%201630.0%5D%2C%20%5B12.93577245%2C%2077.66676103753434%2C%201286.0%5D%2C%20%5B-6.18940725%2C%20106.96671554738951%2C%201258.0%5D%2C%20%5B14.5395813%2C%20121.070371%2C%201238.0%5D%2C%20%5B40.28745%2C%20-76.964526%2C%201218.0%5D%2C%20%5B12.9302645%2C%2077.6332585%2C%201181.0%5D%2C%20%5B12.9400321%2C%2077.6203272%2C%201156.0%5D%2C%20%5B12.9252241%2C%2077.6367015%2C%201065.0%5D%2C%20%5B12.9778793%2C%2077.6246697%2C%201023.0%5D%2C%20%5B12.93433385%2C%2077.63040639553275%2C%201017.0%5D%2C%20%5B29.4534927%2C%20-98.6440138%2C%20918.0%5D%2C%20%5B15.8876779%2C%2075.7046777%2C%20906.0%5D%2C%20%5B13.0221416%2C%2077.6403368%2C%20853.0%5D%2C%20%5B50.7721586%2C%200.09772783661369303%2C%20812.0%5D%2C%20%5B12.996845%2C%2077.6130165%2C%20727.0%5D%2C%20%5B13.0027353%2C%2077.5703253%2C%20725.0%5D%2C%20%5B12.9417261%2C%2077.5755021%2C%20684.0%5D%2C%20%5B24.593839%2C%2073.6968527%2C%20675.0%5D%2C%20%5B13.0141618%2C%2077.6518539%2C%20664.0%5D%2C%20%5B33.5935063%2C%20-79.0345627%2C%20658.0%5D%2C%20%5B13.0318541%2C%2077.5700947%2C%20649.0%5D%2C%20%5B13.0093455%2C%2077.6377094%2C%20648.0%5D%2C%20%5B12.9882338%2C%2077.554883%2C%20591.0%5D%2C%20%5B51.373656%2C%20-0.1042366%2C%20569.0%5D%2C%20%5B40.7652844%2C%20-76.373824%2C%20529.0%5D%2C%20%5B12.9575547%2C%2077.5979099%2C%20511.0%5D%2C%20%5B18.5322493%2C%2073.8499601124847%2C%20499.0%5D%2C%20%5B12.9624669%2C%2077.6381958%2C%20496.0%5D%2C%20%5B31.89376%2C%20-88.066644%2C%20491.0%5D%2C%20%5B34.8457921%2C%20-82.338901%2C%20446.0%5D%2C%20%5B12.945245%2C%2077.6269144%2C%20439.0%5D%2C%20%5B51.5209606%2C%20-0.0751003%2C%20370.0%5D%2C%20%5B51.522645%2C%20-0.737287%2C%20352.0%5D%2C%20%5B12.9417812%2C%2077.6160146%2C%20320.0%5D%2C%20%5B12.988721250000001%2C%2077.58516877601824%2C%20295.0%5D%2C%20%5B12.9678074%2C%2077.6568367%2C%20272.0%5D%2C%20%5B12.9489339%2C%2077.5968273%2C%20246.0%5D%2C%20%5B12.9089453%2C%2077.6239038%2C%20238.0%5D%2C%20%5B12.9271867%2C%2077.6266252%2C%20216.0%5D%2C%20%5B12.9081487%2C%2077.5553179%2C%20195.0%5D%2C%20%5B12.973936%2C%2077.6509982%2C%20194.0%5D%2C%20%5B12.9932739%2C%2077.5388099%2C%20191.0%5D%2C%20%5B13.2227%2C%2078.5541977%2C%20187.0%5D%2C%20%5B12.9931876%2C%2077.5753419%2C%20165.0%5D%2C%20%5B13.0258087%2C%2077.6305067%2C%20161.0%5D%2C%20%5B1.2847055%2C%20103.84320655721689%2C%20155.0%5D%2C%20%5B13.0358698%2C%2077.6323597%2C%20153.0%5D%2C%20%5B34.977289%2C%20-78.974578%2C%20151.0%5D%2C%20%5B13.0099164%2C%2080.2151774%2C%20139.0%5D%2C%20%5B39.76880625%2C%20-86.15345077251979%2C%20126.0%5D%2C%20%5B13.02383%2C%2077.5529215%2C%20119.0%5D%2C%20%5B12.9414662%2C%2077.7470942%2C%20117.0%5D%2C%20%5B12.9673253%2C%2077.7166857%2C%20113.0%5D%2C%20%5B13.0646907%2C%2077.49626895712257%2C%20107.0%5D%2C%20%5B12.773175%2C%2077.7831871%2C%20102.0%5D%2C%20%5B12.9243509%2C%2077.6255562%2C%20102.0%5D%2C%20%5B12.9846713%2C%2077.6790908%2C%20101.0%5D%2C%20%5B17.2510682%2C%2080.1651978%2C%2090.0%5D%2C%20%5B13.0227204%2C%2077.595715%2C%2080.0%5D%2C%20%5B22.8359967%2C%2069.3405962%2C%2080.0%5D%2C%20%5B23.1485712%2C%2081.6048241%2C%2076.0%5D%2C%20%5B15.8782951%2C%2074.5084834%2C%2063.0%5D%2C%20%5B13.0621474%2C%2077.58006135480495%2C%2053.0%5D%2C%20%5B13.2923988%2C%2077.7519261%2C%2048.0%5D%2C%20%5B13.0215466%2C%2077.7640586%2C%2044.0%5D%2C%20%5B11.9917786%2C%2076.5066292%2C%2038.0%5D%2C%20%5B12.945048%2C%2077.263004%2C%2034.0%5D%2C%20%5B12.957998%2C%2077.6037312%2C%2027.0%5D%2C%20%5B38.7801076%2C%20-121.5056438%2C%2027.0%5D%2C%20%5B12.3872141%2C%2076.6669626%2C%2022.0%5D%2C%20%5B13.0460773%2C%2077.7503908%2C%2022.0%5D%2C%20%5B12.5442176%2C%2077.4213833%2C%2019.0%5D%2C%20%5B13.007516%2C%2077.695935%2C%2018.0%5D%2C%20%5B12.9055682%2C%2077.5455438%2C%2017.0%5D%2C%20%5B13.0382184%2C%2077.5919%2C%2014.0%5D%2C%20%5B13.0217151%2C%2077.7660547%2C%2014.0%5D%2C%20%5B12.9176571%2C%2077.4837568%2C%209.0%5D%2C%20%5B12.9546741%2C%2077.5121724%2C%209.0%5D%2C%20%5B12.9900235%2C%2077.572073%2C%208.0%5D%2C%20%5B13.1006982%2C%2077.5963454%2C%206.0%5D%2C%20%5B13.0011289%2C%2077.6325617%2C%206.0%5D%2C%20%5B13.0784743%2C%2077.6068938%2C%203.0%5D%2C%20%5B12.9274413%2C%2077.5155224%2C%202.0%5D%2C%20%5B13.0329419%2C%2077.5273253%2C%201.0%5D%5D%2C%0A%20%20%20%20%20%20%20%20%20%20%20%20%20%20%20%20%7B%22blur%22%3A%2015%2C%20%22maxZoom%22%3A%2018%2C%20%22minOpacity%22%3A%200.5%2C%20%22radius%22%3A%2025%2C%20%22zoom%22%3A%2020%7D%0A%20%20%20%20%20%20%20%20%20%20%20%20%29.addTo%28map_ede3f3d1a96d4bf18cdc26fe730b25cd%29%3B%0A%20%20%20%20%20%20%20%20%0A%3C/script%3E onload=\"this.contentDocument.open();this.contentDocument.write(    decodeURIComponent(this.getAttribute('data-html')));this.contentDocument.close();\" allowfullscreen webkitallowfullscreen mozallowfullscreen></iframe></div></div>"
      ],
      "text/plain": [
       "<folium.folium.Map at 0xcf7a130>"
      ]
     },
     "execution_count": 54,
     "metadata": {},
     "output_type": "execute_result"
    }
   ],
   "source": [
    "basemap"
   ]
  },
  {
   "cell_type": "code",
   "execution_count": 55,
   "metadata": {},
   "outputs": [],
   "source": [
    "from folium.plugins import FastMarkerCluster"
   ]
  },
  {
   "cell_type": "code",
   "execution_count": 56,
   "metadata": {},
   "outputs": [
    {
     "data": {
      "text/plain": [
       "<folium.plugins.fast_marker_cluster.FastMarkerCluster at 0xec40e50>"
      ]
     },
     "execution_count": 56,
     "metadata": {},
     "output_type": "execute_result"
    }
   ],
   "source": [
    "FastMarkerCluster(zomato_location[['latitude', 'longitude', 'count']],zoom = 20).add_to(basemap)"
   ]
  },
  {
   "cell_type": "code",
   "execution_count": 57,
   "metadata": {},
   "outputs": [
    {
     "data": {
      "text/html": [
       "<div style=\"width:100%;\"><div style=\"position:relative;width:100%;height:0;padding-bottom:60%;\"><span style=\"color:#565656\">Make this Notebook Trusted to load map: File -> Trust Notebook</span><iframe src=\"about:blank\" style=\"position:absolute;width:100%;height:100%;left:0;top:0;border:none !important;\" data-html=%3C%21DOCTYPE%20html%3E%0A%3Chead%3E%20%20%20%20%0A%20%20%20%20%3Cmeta%20http-equiv%3D%22content-type%22%20content%3D%22text/html%3B%20charset%3DUTF-8%22%20/%3E%0A%20%20%20%20%0A%20%20%20%20%20%20%20%20%3Cscript%3E%0A%20%20%20%20%20%20%20%20%20%20%20%20L_NO_TOUCH%20%3D%20false%3B%0A%20%20%20%20%20%20%20%20%20%20%20%20L_DISABLE_3D%20%3D%20false%3B%0A%20%20%20%20%20%20%20%20%3C/script%3E%0A%20%20%20%20%0A%20%20%20%20%3Cstyle%3Ehtml%2C%20body%20%7Bwidth%3A%20100%25%3Bheight%3A%20100%25%3Bmargin%3A%200%3Bpadding%3A%200%3B%7D%3C/style%3E%0A%20%20%20%20%3Cstyle%3E%23map%20%7Bposition%3Aabsolute%3Btop%3A0%3Bbottom%3A0%3Bright%3A0%3Bleft%3A0%3B%7D%3C/style%3E%0A%20%20%20%20%3Cscript%20src%3D%22https%3A//cdn.jsdelivr.net/npm/leaflet%401.6.0/dist/leaflet.js%22%3E%3C/script%3E%0A%20%20%20%20%3Cscript%20src%3D%22https%3A//code.jquery.com/jquery-1.12.4.min.js%22%3E%3C/script%3E%0A%20%20%20%20%3Cscript%20src%3D%22https%3A//maxcdn.bootstrapcdn.com/bootstrap/3.2.0/js/bootstrap.min.js%22%3E%3C/script%3E%0A%20%20%20%20%3Cscript%20src%3D%22https%3A//cdnjs.cloudflare.com/ajax/libs/Leaflet.awesome-markers/2.0.2/leaflet.awesome-markers.js%22%3E%3C/script%3E%0A%20%20%20%20%3Clink%20rel%3D%22stylesheet%22%20href%3D%22https%3A//cdn.jsdelivr.net/npm/leaflet%401.6.0/dist/leaflet.css%22/%3E%0A%20%20%20%20%3Clink%20rel%3D%22stylesheet%22%20href%3D%22https%3A//maxcdn.bootstrapcdn.com/bootstrap/3.2.0/css/bootstrap.min.css%22/%3E%0A%20%20%20%20%3Clink%20rel%3D%22stylesheet%22%20href%3D%22https%3A//maxcdn.bootstrapcdn.com/bootstrap/3.2.0/css/bootstrap-theme.min.css%22/%3E%0A%20%20%20%20%3Clink%20rel%3D%22stylesheet%22%20href%3D%22https%3A//maxcdn.bootstrapcdn.com/font-awesome/4.6.3/css/font-awesome.min.css%22/%3E%0A%20%20%20%20%3Clink%20rel%3D%22stylesheet%22%20href%3D%22https%3A//cdnjs.cloudflare.com/ajax/libs/Leaflet.awesome-markers/2.0.2/leaflet.awesome-markers.css%22/%3E%0A%20%20%20%20%3Clink%20rel%3D%22stylesheet%22%20href%3D%22https%3A//cdn.jsdelivr.net/gh/python-visualization/folium/folium/templates/leaflet.awesome.rotate.min.css%22/%3E%0A%20%20%20%20%0A%20%20%20%20%20%20%20%20%20%20%20%20%3Cmeta%20name%3D%22viewport%22%20content%3D%22width%3Ddevice-width%2C%0A%20%20%20%20%20%20%20%20%20%20%20%20%20%20%20%20initial-scale%3D1.0%2C%20maximum-scale%3D1.0%2C%20user-scalable%3Dno%22%20/%3E%0A%20%20%20%20%20%20%20%20%20%20%20%20%3Cstyle%3E%0A%20%20%20%20%20%20%20%20%20%20%20%20%20%20%20%20%23map_ede3f3d1a96d4bf18cdc26fe730b25cd%20%7B%0A%20%20%20%20%20%20%20%20%20%20%20%20%20%20%20%20%20%20%20%20position%3A%20relative%3B%0A%20%20%20%20%20%20%20%20%20%20%20%20%20%20%20%20%20%20%20%20width%3A%20100.0%25%3B%0A%20%20%20%20%20%20%20%20%20%20%20%20%20%20%20%20%20%20%20%20height%3A%20100.0%25%3B%0A%20%20%20%20%20%20%20%20%20%20%20%20%20%20%20%20%20%20%20%20left%3A%200.0%25%3B%0A%20%20%20%20%20%20%20%20%20%20%20%20%20%20%20%20%20%20%20%20top%3A%200.0%25%3B%0A%20%20%20%20%20%20%20%20%20%20%20%20%20%20%20%20%7D%0A%20%20%20%20%20%20%20%20%20%20%20%20%3C/style%3E%0A%20%20%20%20%20%20%20%20%0A%20%20%20%20%3Cscript%20src%3D%22https%3A//cdn.jsdelivr.net/gh/python-visualization/folium%40master/folium/templates/leaflet_heat.min.js%22%3E%3C/script%3E%0A%20%20%20%20%3Cscript%20src%3D%22https%3A//cdnjs.cloudflare.com/ajax/libs/leaflet.markercluster/1.1.0/leaflet.markercluster.js%22%3E%3C/script%3E%0A%20%20%20%20%3Clink%20rel%3D%22stylesheet%22%20href%3D%22https%3A//cdnjs.cloudflare.com/ajax/libs/leaflet.markercluster/1.1.0/MarkerCluster.css%22/%3E%0A%20%20%20%20%3Clink%20rel%3D%22stylesheet%22%20href%3D%22https%3A//cdnjs.cloudflare.com/ajax/libs/leaflet.markercluster/1.1.0/MarkerCluster.Default.css%22/%3E%0A%3C/head%3E%0A%3Cbody%3E%20%20%20%20%0A%20%20%20%20%0A%20%20%20%20%20%20%20%20%20%20%20%20%3Cdiv%20class%3D%22folium-map%22%20id%3D%22map_ede3f3d1a96d4bf18cdc26fe730b25cd%22%20%3E%3C/div%3E%0A%20%20%20%20%20%20%20%20%0A%3C/body%3E%0A%3Cscript%3E%20%20%20%20%0A%20%20%20%20%0A%20%20%20%20%20%20%20%20%20%20%20%20var%20map_ede3f3d1a96d4bf18cdc26fe730b25cd%20%3D%20L.map%28%0A%20%20%20%20%20%20%20%20%20%20%20%20%20%20%20%20%22map_ede3f3d1a96d4bf18cdc26fe730b25cd%22%2C%0A%20%20%20%20%20%20%20%20%20%20%20%20%20%20%20%20%7B%0A%20%20%20%20%20%20%20%20%20%20%20%20%20%20%20%20%20%20%20%20center%3A%20%5B12.95%2C%2077.69%5D%2C%0A%20%20%20%20%20%20%20%20%20%20%20%20%20%20%20%20%20%20%20%20crs%3A%20L.CRS.EPSG3857%2C%0A%20%20%20%20%20%20%20%20%20%20%20%20%20%20%20%20%20%20%20%20zoom%3A%2012%2C%0A%20%20%20%20%20%20%20%20%20%20%20%20%20%20%20%20%20%20%20%20zoomControl%3A%20true%2C%0A%20%20%20%20%20%20%20%20%20%20%20%20%20%20%20%20%20%20%20%20preferCanvas%3A%20false%2C%0A%20%20%20%20%20%20%20%20%20%20%20%20%20%20%20%20%7D%0A%20%20%20%20%20%20%20%20%20%20%20%20%29%3B%0A%0A%20%20%20%20%20%20%20%20%20%20%20%20%0A%0A%20%20%20%20%20%20%20%20%0A%20%20%20%20%0A%20%20%20%20%20%20%20%20%20%20%20%20var%20tile_layer_568486f64a554643af91dcc923a049f4%20%3D%20L.tileLayer%28%0A%20%20%20%20%20%20%20%20%20%20%20%20%20%20%20%20%22https%3A//%7Bs%7D.tile.openstreetmap.org/%7Bz%7D/%7Bx%7D/%7By%7D.png%22%2C%0A%20%20%20%20%20%20%20%20%20%20%20%20%20%20%20%20%7B%22attribution%22%3A%20%22Data%20by%20%5Cu0026copy%3B%20%5Cu003ca%20href%3D%5C%22http%3A//openstreetmap.org%5C%22%5Cu003eOpenStreetMap%5Cu003c/a%5Cu003e%2C%20under%20%5Cu003ca%20href%3D%5C%22http%3A//www.openstreetmap.org/copyright%5C%22%5Cu003eODbL%5Cu003c/a%5Cu003e.%22%2C%20%22detectRetina%22%3A%20false%2C%20%22maxNativeZoom%22%3A%2018%2C%20%22maxZoom%22%3A%2018%2C%20%22minZoom%22%3A%200%2C%20%22noWrap%22%3A%20false%2C%20%22opacity%22%3A%201%2C%20%22subdomains%22%3A%20%22abc%22%2C%20%22tms%22%3A%20false%7D%0A%20%20%20%20%20%20%20%20%20%20%20%20%29.addTo%28map_ede3f3d1a96d4bf18cdc26fe730b25cd%29%3B%0A%20%20%20%20%20%20%20%20%0A%20%20%20%20%0A%20%20%20%20%20%20%20%20%20%20%20%20var%20heat_map_dc50c5b40e4146e8967211a05f29db99%20%3D%20L.heatLayer%28%0A%20%20%20%20%20%20%20%20%20%20%20%20%20%20%20%20%5B%5B45.95485055%2C%20-112.49659530324134%2C%205124.0%5D%2C%20%5B18.1475%2C%2041.538889%2C%202523.0%5D%2C%20%5B12.9343774%2C%2077.628415%2C%202504.0%5D%2C%20%5B12.2655944%2C%2076.6465404%2C%202235.0%5D%2C%20%5B44.3730577%2C%20-71.6118577%2C%202144.0%5D%2C%20%5B12.9732913%2C%2077.6404672%2C%202083.0%5D%2C%20%5B27.64392675%2C%2083.05280519687284%2C%201926.0%5D%2C%20%5B12.9552572%2C%2077.6984163%2C%201846.0%5D%2C%20%5B12.8870547%2C%2077.5969483%2C%201630.0%5D%2C%20%5B12.93577245%2C%2077.66676103753434%2C%201286.0%5D%2C%20%5B-6.18940725%2C%20106.96671554738951%2C%201258.0%5D%2C%20%5B14.5395813%2C%20121.070371%2C%201238.0%5D%2C%20%5B40.28745%2C%20-76.964526%2C%201218.0%5D%2C%20%5B12.9302645%2C%2077.6332585%2C%201181.0%5D%2C%20%5B12.9400321%2C%2077.6203272%2C%201156.0%5D%2C%20%5B12.9252241%2C%2077.6367015%2C%201065.0%5D%2C%20%5B12.9778793%2C%2077.6246697%2C%201023.0%5D%2C%20%5B12.93433385%2C%2077.63040639553275%2C%201017.0%5D%2C%20%5B29.4534927%2C%20-98.6440138%2C%20918.0%5D%2C%20%5B15.8876779%2C%2075.7046777%2C%20906.0%5D%2C%20%5B13.0221416%2C%2077.6403368%2C%20853.0%5D%2C%20%5B50.7721586%2C%200.09772783661369303%2C%20812.0%5D%2C%20%5B12.996845%2C%2077.6130165%2C%20727.0%5D%2C%20%5B13.0027353%2C%2077.5703253%2C%20725.0%5D%2C%20%5B12.9417261%2C%2077.5755021%2C%20684.0%5D%2C%20%5B24.593839%2C%2073.6968527%2C%20675.0%5D%2C%20%5B13.0141618%2C%2077.6518539%2C%20664.0%5D%2C%20%5B33.5935063%2C%20-79.0345627%2C%20658.0%5D%2C%20%5B13.0318541%2C%2077.5700947%2C%20649.0%5D%2C%20%5B13.0093455%2C%2077.6377094%2C%20648.0%5D%2C%20%5B12.9882338%2C%2077.554883%2C%20591.0%5D%2C%20%5B51.373656%2C%20-0.1042366%2C%20569.0%5D%2C%20%5B40.7652844%2C%20-76.373824%2C%20529.0%5D%2C%20%5B12.9575547%2C%2077.5979099%2C%20511.0%5D%2C%20%5B18.5322493%2C%2073.8499601124847%2C%20499.0%5D%2C%20%5B12.9624669%2C%2077.6381958%2C%20496.0%5D%2C%20%5B31.89376%2C%20-88.066644%2C%20491.0%5D%2C%20%5B34.8457921%2C%20-82.338901%2C%20446.0%5D%2C%20%5B12.945245%2C%2077.6269144%2C%20439.0%5D%2C%20%5B51.5209606%2C%20-0.0751003%2C%20370.0%5D%2C%20%5B51.522645%2C%20-0.737287%2C%20352.0%5D%2C%20%5B12.9417812%2C%2077.6160146%2C%20320.0%5D%2C%20%5B12.988721250000001%2C%2077.58516877601824%2C%20295.0%5D%2C%20%5B12.9678074%2C%2077.6568367%2C%20272.0%5D%2C%20%5B12.9489339%2C%2077.5968273%2C%20246.0%5D%2C%20%5B12.9089453%2C%2077.6239038%2C%20238.0%5D%2C%20%5B12.9271867%2C%2077.6266252%2C%20216.0%5D%2C%20%5B12.9081487%2C%2077.5553179%2C%20195.0%5D%2C%20%5B12.973936%2C%2077.6509982%2C%20194.0%5D%2C%20%5B12.9932739%2C%2077.5388099%2C%20191.0%5D%2C%20%5B13.2227%2C%2078.5541977%2C%20187.0%5D%2C%20%5B12.9931876%2C%2077.5753419%2C%20165.0%5D%2C%20%5B13.0258087%2C%2077.6305067%2C%20161.0%5D%2C%20%5B1.2847055%2C%20103.84320655721689%2C%20155.0%5D%2C%20%5B13.0358698%2C%2077.6323597%2C%20153.0%5D%2C%20%5B34.977289%2C%20-78.974578%2C%20151.0%5D%2C%20%5B13.0099164%2C%2080.2151774%2C%20139.0%5D%2C%20%5B39.76880625%2C%20-86.15345077251979%2C%20126.0%5D%2C%20%5B13.02383%2C%2077.5529215%2C%20119.0%5D%2C%20%5B12.9414662%2C%2077.7470942%2C%20117.0%5D%2C%20%5B12.9673253%2C%2077.7166857%2C%20113.0%5D%2C%20%5B13.0646907%2C%2077.49626895712257%2C%20107.0%5D%2C%20%5B12.773175%2C%2077.7831871%2C%20102.0%5D%2C%20%5B12.9243509%2C%2077.6255562%2C%20102.0%5D%2C%20%5B12.9846713%2C%2077.6790908%2C%20101.0%5D%2C%20%5B17.2510682%2C%2080.1651978%2C%2090.0%5D%2C%20%5B13.0227204%2C%2077.595715%2C%2080.0%5D%2C%20%5B22.8359967%2C%2069.3405962%2C%2080.0%5D%2C%20%5B23.1485712%2C%2081.6048241%2C%2076.0%5D%2C%20%5B15.8782951%2C%2074.5084834%2C%2063.0%5D%2C%20%5B13.0621474%2C%2077.58006135480495%2C%2053.0%5D%2C%20%5B13.2923988%2C%2077.7519261%2C%2048.0%5D%2C%20%5B13.0215466%2C%2077.7640586%2C%2044.0%5D%2C%20%5B11.9917786%2C%2076.5066292%2C%2038.0%5D%2C%20%5B12.945048%2C%2077.263004%2C%2034.0%5D%2C%20%5B12.957998%2C%2077.6037312%2C%2027.0%5D%2C%20%5B38.7801076%2C%20-121.5056438%2C%2027.0%5D%2C%20%5B12.3872141%2C%2076.6669626%2C%2022.0%5D%2C%20%5B13.0460773%2C%2077.7503908%2C%2022.0%5D%2C%20%5B12.5442176%2C%2077.4213833%2C%2019.0%5D%2C%20%5B13.007516%2C%2077.695935%2C%2018.0%5D%2C%20%5B12.9055682%2C%2077.5455438%2C%2017.0%5D%2C%20%5B13.0382184%2C%2077.5919%2C%2014.0%5D%2C%20%5B13.0217151%2C%2077.7660547%2C%2014.0%5D%2C%20%5B12.9176571%2C%2077.4837568%2C%209.0%5D%2C%20%5B12.9546741%2C%2077.5121724%2C%209.0%5D%2C%20%5B12.9900235%2C%2077.572073%2C%208.0%5D%2C%20%5B13.1006982%2C%2077.5963454%2C%206.0%5D%2C%20%5B13.0011289%2C%2077.6325617%2C%206.0%5D%2C%20%5B13.0784743%2C%2077.6068938%2C%203.0%5D%2C%20%5B12.9274413%2C%2077.5155224%2C%202.0%5D%2C%20%5B13.0329419%2C%2077.5273253%2C%201.0%5D%5D%2C%0A%20%20%20%20%20%20%20%20%20%20%20%20%20%20%20%20%7B%22blur%22%3A%2015%2C%20%22maxZoom%22%3A%2018%2C%20%22minOpacity%22%3A%200.5%2C%20%22radius%22%3A%2025%2C%20%22zoom%22%3A%2020%7D%0A%20%20%20%20%20%20%20%20%20%20%20%20%29.addTo%28map_ede3f3d1a96d4bf18cdc26fe730b25cd%29%3B%0A%20%20%20%20%20%20%20%20%0A%20%20%20%20%0A%20%20%20%20%20%20%20%20%20%20%20%20var%20fast_marker_cluster_02b93675d22f48fe8c499109e8e59fc3%20%3D%20%28function%28%29%7B%0A%20%20%20%20%20%20%20%20%20%20%20%20%20%20%20%20%0A%20%20%20%20%20%20%20%20%20%20%20%20%20%20%20%20var%20callback%20%3D%20function%20%28row%29%20%7B%0A%20%20%20%20%20%20%20%20%20%20%20%20%20%20%20%20%20%20%20%20var%20icon%20%3D%20L.AwesomeMarkers.icon%28%29%3B%0A%20%20%20%20%20%20%20%20%20%20%20%20%20%20%20%20%20%20%20%20var%20marker%20%3D%20L.marker%28new%20L.LatLng%28row%5B0%5D%2C%20row%5B1%5D%29%29%3B%0A%20%20%20%20%20%20%20%20%20%20%20%20%20%20%20%20%20%20%20%20marker.setIcon%28icon%29%3B%0A%20%20%20%20%20%20%20%20%20%20%20%20%20%20%20%20%20%20%20%20return%20marker%3B%0A%20%20%20%20%20%20%20%20%20%20%20%20%20%20%20%20%7D%3B%0A%0A%20%20%20%20%20%20%20%20%20%20%20%20%20%20%20%20var%20data%20%3D%20%5B%5B45.95485055%2C%20-112.49659530324134%2C%205124.0%5D%2C%20%5B18.1475%2C%2041.538889%2C%202523.0%5D%2C%20%5B12.9343774%2C%2077.628415%2C%202504.0%5D%2C%20%5B12.2655944%2C%2076.6465404%2C%202235.0%5D%2C%20%5B44.3730577%2C%20-71.6118577%2C%202144.0%5D%2C%20%5B12.9732913%2C%2077.6404672%2C%202083.0%5D%2C%20%5B27.64392675%2C%2083.05280519687284%2C%201926.0%5D%2C%20%5B12.9552572%2C%2077.6984163%2C%201846.0%5D%2C%20%5B12.8870547%2C%2077.5969483%2C%201630.0%5D%2C%20%5B12.93577245%2C%2077.66676103753434%2C%201286.0%5D%2C%20%5B-6.18940725%2C%20106.96671554738951%2C%201258.0%5D%2C%20%5B14.5395813%2C%20121.070371%2C%201238.0%5D%2C%20%5B40.28745%2C%20-76.964526%2C%201218.0%5D%2C%20%5B12.9302645%2C%2077.6332585%2C%201181.0%5D%2C%20%5B12.9400321%2C%2077.6203272%2C%201156.0%5D%2C%20%5B12.9252241%2C%2077.6367015%2C%201065.0%5D%2C%20%5B12.9778793%2C%2077.6246697%2C%201023.0%5D%2C%20%5B12.93433385%2C%2077.63040639553275%2C%201017.0%5D%2C%20%5B29.4534927%2C%20-98.6440138%2C%20918.0%5D%2C%20%5B15.8876779%2C%2075.7046777%2C%20906.0%5D%2C%20%5B13.0221416%2C%2077.6403368%2C%20853.0%5D%2C%20%5B50.7721586%2C%200.09772783661369303%2C%20812.0%5D%2C%20%5B12.996845%2C%2077.6130165%2C%20727.0%5D%2C%20%5B13.0027353%2C%2077.5703253%2C%20725.0%5D%2C%20%5B12.9417261%2C%2077.5755021%2C%20684.0%5D%2C%20%5B24.593839%2C%2073.6968527%2C%20675.0%5D%2C%20%5B13.0141618%2C%2077.6518539%2C%20664.0%5D%2C%20%5B33.5935063%2C%20-79.0345627%2C%20658.0%5D%2C%20%5B13.0318541%2C%2077.5700947%2C%20649.0%5D%2C%20%5B13.0093455%2C%2077.6377094%2C%20648.0%5D%2C%20%5B12.9882338%2C%2077.554883%2C%20591.0%5D%2C%20%5B51.373656%2C%20-0.1042366%2C%20569.0%5D%2C%20%5B40.7652844%2C%20-76.373824%2C%20529.0%5D%2C%20%5B12.9575547%2C%2077.5979099%2C%20511.0%5D%2C%20%5B18.5322493%2C%2073.8499601124847%2C%20499.0%5D%2C%20%5B12.9624669%2C%2077.6381958%2C%20496.0%5D%2C%20%5B31.89376%2C%20-88.066644%2C%20491.0%5D%2C%20%5B34.8457921%2C%20-82.338901%2C%20446.0%5D%2C%20%5B12.945245%2C%2077.6269144%2C%20439.0%5D%2C%20%5B51.5209606%2C%20-0.0751003%2C%20370.0%5D%2C%20%5B51.522645%2C%20-0.737287%2C%20352.0%5D%2C%20%5B12.9417812%2C%2077.6160146%2C%20320.0%5D%2C%20%5B12.988721250000001%2C%2077.58516877601824%2C%20295.0%5D%2C%20%5B12.9678074%2C%2077.6568367%2C%20272.0%5D%2C%20%5B12.9489339%2C%2077.5968273%2C%20246.0%5D%2C%20%5B12.9089453%2C%2077.6239038%2C%20238.0%5D%2C%20%5B12.9271867%2C%2077.6266252%2C%20216.0%5D%2C%20%5B12.9081487%2C%2077.5553179%2C%20195.0%5D%2C%20%5B12.973936%2C%2077.6509982%2C%20194.0%5D%2C%20%5B12.9932739%2C%2077.5388099%2C%20191.0%5D%2C%20%5B13.2227%2C%2078.5541977%2C%20187.0%5D%2C%20%5B12.9931876%2C%2077.5753419%2C%20165.0%5D%2C%20%5B13.0258087%2C%2077.6305067%2C%20161.0%5D%2C%20%5B1.2847055%2C%20103.84320655721689%2C%20155.0%5D%2C%20%5B13.0358698%2C%2077.6323597%2C%20153.0%5D%2C%20%5B34.977289%2C%20-78.974578%2C%20151.0%5D%2C%20%5B13.0099164%2C%2080.2151774%2C%20139.0%5D%2C%20%5B39.76880625%2C%20-86.15345077251979%2C%20126.0%5D%2C%20%5B13.02383%2C%2077.5529215%2C%20119.0%5D%2C%20%5B12.9414662%2C%2077.7470942%2C%20117.0%5D%2C%20%5B12.9673253%2C%2077.7166857%2C%20113.0%5D%2C%20%5B13.0646907%2C%2077.49626895712257%2C%20107.0%5D%2C%20%5B12.773175%2C%2077.7831871%2C%20102.0%5D%2C%20%5B12.9243509%2C%2077.6255562%2C%20102.0%5D%2C%20%5B12.9846713%2C%2077.6790908%2C%20101.0%5D%2C%20%5B17.2510682%2C%2080.1651978%2C%2090.0%5D%2C%20%5B13.0227204%2C%2077.595715%2C%2080.0%5D%2C%20%5B22.8359967%2C%2069.3405962%2C%2080.0%5D%2C%20%5B23.1485712%2C%2081.6048241%2C%2076.0%5D%2C%20%5B15.8782951%2C%2074.5084834%2C%2063.0%5D%2C%20%5B13.0621474%2C%2077.58006135480495%2C%2053.0%5D%2C%20%5B13.2923988%2C%2077.7519261%2C%2048.0%5D%2C%20%5B13.0215466%2C%2077.7640586%2C%2044.0%5D%2C%20%5B11.9917786%2C%2076.5066292%2C%2038.0%5D%2C%20%5B12.945048%2C%2077.263004%2C%2034.0%5D%2C%20%5B12.957998%2C%2077.6037312%2C%2027.0%5D%2C%20%5B38.7801076%2C%20-121.5056438%2C%2027.0%5D%2C%20%5B12.3872141%2C%2076.6669626%2C%2022.0%5D%2C%20%5B13.0460773%2C%2077.7503908%2C%2022.0%5D%2C%20%5B12.5442176%2C%2077.4213833%2C%2019.0%5D%2C%20%5B13.007516%2C%2077.695935%2C%2018.0%5D%2C%20%5B12.9055682%2C%2077.5455438%2C%2017.0%5D%2C%20%5B13.0382184%2C%2077.5919%2C%2014.0%5D%2C%20%5B13.0217151%2C%2077.7660547%2C%2014.0%5D%2C%20%5B12.9176571%2C%2077.4837568%2C%209.0%5D%2C%20%5B12.9546741%2C%2077.5121724%2C%209.0%5D%2C%20%5B12.9900235%2C%2077.572073%2C%208.0%5D%2C%20%5B13.1006982%2C%2077.5963454%2C%206.0%5D%2C%20%5B13.0011289%2C%2077.6325617%2C%206.0%5D%2C%20%5B13.0784743%2C%2077.6068938%2C%203.0%5D%2C%20%5B12.9274413%2C%2077.5155224%2C%202.0%5D%2C%20%5B13.0329419%2C%2077.5273253%2C%201.0%5D%5D%3B%0A%20%20%20%20%20%20%20%20%20%20%20%20%20%20%20%20var%20cluster%20%3D%20L.markerClusterGroup%28%7B%22zoom%22%3A%2020%7D%29%3B%0A%0A%20%20%20%20%20%20%20%20%20%20%20%20%20%20%20%20for%20%28var%20i%20%3D%200%3B%20i%20%3C%20data.length%3B%20i%2B%2B%29%20%7B%0A%20%20%20%20%20%20%20%20%20%20%20%20%20%20%20%20%20%20%20%20var%20row%20%3D%20data%5Bi%5D%3B%0A%20%20%20%20%20%20%20%20%20%20%20%20%20%20%20%20%20%20%20%20var%20marker%20%3D%20callback%28row%29%3B%0A%20%20%20%20%20%20%20%20%20%20%20%20%20%20%20%20%20%20%20%20marker.addTo%28cluster%29%3B%0A%20%20%20%20%20%20%20%20%20%20%20%20%20%20%20%20%7D%0A%0A%20%20%20%20%20%20%20%20%20%20%20%20%20%20%20%20cluster.addTo%28map_ede3f3d1a96d4bf18cdc26fe730b25cd%29%3B%0A%20%20%20%20%20%20%20%20%20%20%20%20%20%20%20%20return%20cluster%3B%0A%20%20%20%20%20%20%20%20%20%20%20%20%7D%29%28%29%3B%0A%20%20%20%20%20%20%20%20%0A%3C/script%3E onload=\"this.contentDocument.open();this.contentDocument.write(    decodeURIComponent(this.getAttribute('data-html')));this.contentDocument.close();\" allowfullscreen webkitallowfullscreen mozallowfullscreen></iframe></div></div>"
      ],
      "text/plain": [
       "<folium.folium.Map at 0xcf7a130>"
      ]
     },
     "execution_count": 57,
     "metadata": {},
     "output_type": "execute_result"
    }
   ],
   "source": [
    "basemap"
   ]
  },
  {
   "cell_type": "code",
   "execution_count": 62,
   "metadata": {},
   "outputs": [
    {
     "data": {
      "text/plain": [
       "array(['4.1/5', '3.8/5', '3.7/5', '3.6/5', '4.6/5', '4.0/5', '4.2/5',\n",
       "       '3.9/5', '3.1/5', '3.0/5', '3.2/5', '3.3/5', '2.8/5', '4.4/5',\n",
       "       '4.3/5', 'NEW', '2.9/5', '3.5/5', '2.6/5', '3.8 /5', '3.4/5',\n",
       "       '4.5/5', '2.5/5', '2.7/5', '4.7/5', '2.4/5', '2.2/5', '2.3/5',\n",
       "       '3.4 /5', '-', '3.6 /5', '4.8/5', '3.9 /5', '4.2 /5', '4.0 /5',\n",
       "       '4.1 /5', '3.7 /5', '3.1 /5', '2.9 /5', '3.3 /5', '2.8 /5',\n",
       "       '3.5 /5', '2.7 /5', '2.5 /5', '3.2 /5', '2.6 /5', '4.5 /5',\n",
       "       '4.3 /5', '4.4 /5', '4.9/5', '2.1/5', '2.0/5', '1.8/5', '4.6 /5',\n",
       "       '4.9 /5', '3.0 /5', '4.8 /5', '2.3 /5', '4.7 /5', '2.4 /5',\n",
       "       '2.1 /5', '2.2 /5', '2.0 /5', '1.8 /5'], dtype=object)"
      ]
     },
     "execution_count": 62,
     "metadata": {},
     "output_type": "execute_result"
    }
   ],
   "source": [
    "zomato['rate'].unique()"
   ]
  },
  {
   "cell_type": "code",
   "execution_count": 60,
   "metadata": {},
   "outputs": [],
   "source": [
    "zomato.dropna(axis = 0, subset = ['rate'], inplace = True)"
   ]
  },
  {
   "cell_type": "code",
   "execution_count": 61,
   "metadata": {},
   "outputs": [
    {
     "data": {
      "text/plain": [
       "0"
      ]
     },
     "execution_count": 61,
     "metadata": {},
     "output_type": "execute_result"
    }
   ],
   "source": [
    "zomato['rate'].isnull().sum()"
   ]
  },
  {
   "cell_type": "code",
   "execution_count": 94,
   "metadata": {},
   "outputs": [],
   "source": [
    "zomato['rat'] = zomato['rate'].apply(lambda x: x.split('/')[0])"
   ]
  },
  {
   "cell_type": "code",
   "execution_count": 80,
   "metadata": {},
   "outputs": [],
   "source": [
    "def split(x):\n",
    "    return x.split('/')[0]"
   ]
  },
  {
   "cell_type": "code",
   "execution_count": 81,
   "metadata": {},
   "outputs": [],
   "source": [
    "zomato['rating'] = zomato['rate'].apply(split)"
   ]
  },
  {
   "cell_type": "code",
   "execution_count": 95,
   "metadata": {},
   "outputs": [
    {
     "data": {
      "text/html": [
       "<div>\n",
       "<style scoped>\n",
       "    .dataframe tbody tr th:only-of-type {\n",
       "        vertical-align: middle;\n",
       "    }\n",
       "\n",
       "    .dataframe tbody tr th {\n",
       "        vertical-align: top;\n",
       "    }\n",
       "\n",
       "    .dataframe thead th {\n",
       "        text-align: right;\n",
       "    }\n",
       "</style>\n",
       "<table border=\"1\" class=\"dataframe\">\n",
       "  <thead>\n",
       "    <tr style=\"text-align: right;\">\n",
       "      <th></th>\n",
       "      <th>url</th>\n",
       "      <th>address</th>\n",
       "      <th>name</th>\n",
       "      <th>online_order</th>\n",
       "      <th>book_table</th>\n",
       "      <th>rate</th>\n",
       "      <th>votes</th>\n",
       "      <th>phone</th>\n",
       "      <th>location</th>\n",
       "      <th>rest_type</th>\n",
       "      <th>dish_liked</th>\n",
       "      <th>cuisines</th>\n",
       "      <th>approx_cost(for two people)</th>\n",
       "      <th>reviews_list</th>\n",
       "      <th>menu_item</th>\n",
       "      <th>listed_in(type)</th>\n",
       "      <th>listed_in(city)</th>\n",
       "      <th>rating</th>\n",
       "      <th>rat</th>\n",
       "    </tr>\n",
       "  </thead>\n",
       "  <tbody>\n",
       "    <tr>\n",
       "      <th>0</th>\n",
       "      <td>https://www.zomato.com/bangalore/jalsa-banasha...</td>\n",
       "      <td>942, 21st Main Road, 2nd Stage, Banashankari, ...</td>\n",
       "      <td>Jalsa</td>\n",
       "      <td>Yes</td>\n",
       "      <td>Yes</td>\n",
       "      <td>4.1/5</td>\n",
       "      <td>775</td>\n",
       "      <td>080 42297555\\r\\n+91 9743772233</td>\n",
       "      <td>Banashankari</td>\n",
       "      <td>Casual Dining</td>\n",
       "      <td>Pasta, Lunch Buffet, Masala Papad, Paneer Laja...</td>\n",
       "      <td>North Indian, Mughlai, Chinese</td>\n",
       "      <td>800</td>\n",
       "      <td>[('Rated 4.0', 'RATED\\n  A beautiful place to ...</td>\n",
       "      <td>[]</td>\n",
       "      <td>Buffet</td>\n",
       "      <td>Banashankari</td>\n",
       "      <td>4.1</td>\n",
       "      <td>4.1</td>\n",
       "    </tr>\n",
       "    <tr>\n",
       "      <th>1</th>\n",
       "      <td>https://www.zomato.com/bangalore/spice-elephan...</td>\n",
       "      <td>2nd Floor, 80 Feet Road, Near Big Bazaar, 6th ...</td>\n",
       "      <td>Spice Elephant</td>\n",
       "      <td>Yes</td>\n",
       "      <td>No</td>\n",
       "      <td>4.1/5</td>\n",
       "      <td>787</td>\n",
       "      <td>080 41714161</td>\n",
       "      <td>Banashankari</td>\n",
       "      <td>Casual Dining</td>\n",
       "      <td>Momos, Lunch Buffet, Chocolate Nirvana, Thai G...</td>\n",
       "      <td>Chinese, North Indian, Thai</td>\n",
       "      <td>800</td>\n",
       "      <td>[('Rated 4.0', 'RATED\\n  Had been here for din...</td>\n",
       "      <td>[]</td>\n",
       "      <td>Buffet</td>\n",
       "      <td>Banashankari</td>\n",
       "      <td>4.1</td>\n",
       "      <td>4.1</td>\n",
       "    </tr>\n",
       "    <tr>\n",
       "      <th>2</th>\n",
       "      <td>https://www.zomato.com/SanchurroBangalore?cont...</td>\n",
       "      <td>1112, Next to KIMS Medical College, 17th Cross...</td>\n",
       "      <td>San Churro Cafe</td>\n",
       "      <td>Yes</td>\n",
       "      <td>No</td>\n",
       "      <td>3.8/5</td>\n",
       "      <td>918</td>\n",
       "      <td>+91 9663487993</td>\n",
       "      <td>Banashankari</td>\n",
       "      <td>Cafe, Casual Dining</td>\n",
       "      <td>Churros, Cannelloni, Minestrone Soup, Hot Choc...</td>\n",
       "      <td>Cafe, Mexican, Italian</td>\n",
       "      <td>800</td>\n",
       "      <td>[('Rated 3.0', \"RATED\\n  Ambience is not that ...</td>\n",
       "      <td>[]</td>\n",
       "      <td>Buffet</td>\n",
       "      <td>Banashankari</td>\n",
       "      <td>3.8</td>\n",
       "      <td>3.8</td>\n",
       "    </tr>\n",
       "    <tr>\n",
       "      <th>3</th>\n",
       "      <td>https://www.zomato.com/bangalore/addhuri-udupi...</td>\n",
       "      <td>1st Floor, Annakuteera, 3rd Stage, Banashankar...</td>\n",
       "      <td>Addhuri Udupi Bhojana</td>\n",
       "      <td>No</td>\n",
       "      <td>No</td>\n",
       "      <td>3.7/5</td>\n",
       "      <td>88</td>\n",
       "      <td>+91 9620009302</td>\n",
       "      <td>Banashankari</td>\n",
       "      <td>Quick Bites</td>\n",
       "      <td>Masala Dosa</td>\n",
       "      <td>South Indian, North Indian</td>\n",
       "      <td>300</td>\n",
       "      <td>[('Rated 4.0', \"RATED\\n  Great food and proper...</td>\n",
       "      <td>[]</td>\n",
       "      <td>Buffet</td>\n",
       "      <td>Banashankari</td>\n",
       "      <td>3.7</td>\n",
       "      <td>3.7</td>\n",
       "    </tr>\n",
       "    <tr>\n",
       "      <th>4</th>\n",
       "      <td>https://www.zomato.com/bangalore/grand-village...</td>\n",
       "      <td>10, 3rd Floor, Lakshmi Associates, Gandhi Baza...</td>\n",
       "      <td>Grand Village</td>\n",
       "      <td>No</td>\n",
       "      <td>No</td>\n",
       "      <td>3.8/5</td>\n",
       "      <td>166</td>\n",
       "      <td>+91 8026612447\\r\\n+91 9901210005</td>\n",
       "      <td>Basavanagudi</td>\n",
       "      <td>Casual Dining</td>\n",
       "      <td>Panipuri, Gol Gappe</td>\n",
       "      <td>North Indian, Rajasthani</td>\n",
       "      <td>600</td>\n",
       "      <td>[('Rated 4.0', 'RATED\\n  Very good restaurant ...</td>\n",
       "      <td>[]</td>\n",
       "      <td>Buffet</td>\n",
       "      <td>Banashankari</td>\n",
       "      <td>3.8</td>\n",
       "      <td>3.8</td>\n",
       "    </tr>\n",
       "    <tr>\n",
       "      <th>...</th>\n",
       "      <td>...</td>\n",
       "      <td>...</td>\n",
       "      <td>...</td>\n",
       "      <td>...</td>\n",
       "      <td>...</td>\n",
       "      <td>...</td>\n",
       "      <td>...</td>\n",
       "      <td>...</td>\n",
       "      <td>...</td>\n",
       "      <td>...</td>\n",
       "      <td>...</td>\n",
       "      <td>...</td>\n",
       "      <td>...</td>\n",
       "      <td>...</td>\n",
       "      <td>...</td>\n",
       "      <td>...</td>\n",
       "      <td>...</td>\n",
       "      <td>...</td>\n",
       "      <td>...</td>\n",
       "    </tr>\n",
       "    <tr>\n",
       "      <th>51709</th>\n",
       "      <td>https://www.zomato.com/bangalore/the-farm-hous...</td>\n",
       "      <td>136, SAP Labs India, KIADB Export Promotion In...</td>\n",
       "      <td>The Farm House Bar n Grill</td>\n",
       "      <td>No</td>\n",
       "      <td>No</td>\n",
       "      <td>3.7 /5</td>\n",
       "      <td>34</td>\n",
       "      <td>+91 9980121279\\n+91 9900240646</td>\n",
       "      <td>Whitefield</td>\n",
       "      <td>Casual Dining, Bar</td>\n",
       "      <td>NaN</td>\n",
       "      <td>North Indian, Continental</td>\n",
       "      <td>800</td>\n",
       "      <td>[('Rated 4.0', 'RATED\\n  Ambience- Big and spa...</td>\n",
       "      <td>[]</td>\n",
       "      <td>Pubs and bars</td>\n",
       "      <td>Whitefield</td>\n",
       "      <td>3.7</td>\n",
       "      <td>3.7</td>\n",
       "    </tr>\n",
       "    <tr>\n",
       "      <th>51711</th>\n",
       "      <td>https://www.zomato.com/bangalore/bhagini-2-whi...</td>\n",
       "      <td>139/C1, Next To GR Tech Park, Pattandur Agraha...</td>\n",
       "      <td>Bhagini</td>\n",
       "      <td>No</td>\n",
       "      <td>No</td>\n",
       "      <td>2.5 /5</td>\n",
       "      <td>81</td>\n",
       "      <td>080 65951222</td>\n",
       "      <td>Whitefield</td>\n",
       "      <td>Casual Dining, Bar</td>\n",
       "      <td>Biryani, Andhra Meal</td>\n",
       "      <td>Andhra, South Indian, Chinese, North Indian</td>\n",
       "      <td>800</td>\n",
       "      <td>[('Rated 4.0', 'RATED\\n  A fine place to chill...</td>\n",
       "      <td>[]</td>\n",
       "      <td>Pubs and bars</td>\n",
       "      <td>Whitefield</td>\n",
       "      <td>2.5</td>\n",
       "      <td>2.5</td>\n",
       "    </tr>\n",
       "    <tr>\n",
       "      <th>51712</th>\n",
       "      <td>https://www.zomato.com/bangalore/best-brews-fo...</td>\n",
       "      <td>Four Points by Sheraton Bengaluru, 43/3, White...</td>\n",
       "      <td>Best Brews - Four Points by Sheraton Bengaluru...</td>\n",
       "      <td>No</td>\n",
       "      <td>No</td>\n",
       "      <td>3.6 /5</td>\n",
       "      <td>27</td>\n",
       "      <td>080 40301477</td>\n",
       "      <td>Whitefield</td>\n",
       "      <td>Bar</td>\n",
       "      <td>NaN</td>\n",
       "      <td>Continental</td>\n",
       "      <td>1,500</td>\n",
       "      <td>[('Rated 5.0', \"RATED\\n  Food and service are ...</td>\n",
       "      <td>[]</td>\n",
       "      <td>Pubs and bars</td>\n",
       "      <td>Whitefield</td>\n",
       "      <td>3.6</td>\n",
       "      <td>3.6</td>\n",
       "    </tr>\n",
       "    <tr>\n",
       "      <th>51715</th>\n",
       "      <td>https://www.zomato.com/bangalore/chime-sherato...</td>\n",
       "      <td>Sheraton Grand Bengaluru Whitefield Hotel &amp; Co...</td>\n",
       "      <td>Chime - Sheraton Grand Bengaluru Whitefield Ho...</td>\n",
       "      <td>No</td>\n",
       "      <td>Yes</td>\n",
       "      <td>4.3 /5</td>\n",
       "      <td>236</td>\n",
       "      <td>080 49652769</td>\n",
       "      <td>ITPL Main Road, Whitefield</td>\n",
       "      <td>Bar</td>\n",
       "      <td>Cocktails, Pizza, Buttermilk</td>\n",
       "      <td>Finger Food</td>\n",
       "      <td>2,500</td>\n",
       "      <td>[('Rated 4.0', 'RATED\\n  Nice and friendly pla...</td>\n",
       "      <td>[]</td>\n",
       "      <td>Pubs and bars</td>\n",
       "      <td>Whitefield</td>\n",
       "      <td>4.3</td>\n",
       "      <td>4.3</td>\n",
       "    </tr>\n",
       "    <tr>\n",
       "      <th>51716</th>\n",
       "      <td>https://www.zomato.com/bangalore/the-nest-the-...</td>\n",
       "      <td>ITPL Main Road, KIADB Export Promotion Industr...</td>\n",
       "      <td>The Nest - The Den Bengaluru</td>\n",
       "      <td>No</td>\n",
       "      <td>No</td>\n",
       "      <td>3.4 /5</td>\n",
       "      <td>13</td>\n",
       "      <td>+91 8071117272</td>\n",
       "      <td>ITPL Main Road, Whitefield</td>\n",
       "      <td>Bar, Casual Dining</td>\n",
       "      <td>NaN</td>\n",
       "      <td>Finger Food, North Indian, Continental</td>\n",
       "      <td>1,500</td>\n",
       "      <td>[('Rated 5.0', 'RATED\\n  Great ambience , look...</td>\n",
       "      <td>[]</td>\n",
       "      <td>Pubs and bars</td>\n",
       "      <td>Whitefield</td>\n",
       "      <td>3.4</td>\n",
       "      <td>3.4</td>\n",
       "    </tr>\n",
       "  </tbody>\n",
       "</table>\n",
       "<p>43942 rows × 19 columns</p>\n",
       "</div>"
      ],
      "text/plain": [
       "                                                     url  \\\n",
       "0      https://www.zomato.com/bangalore/jalsa-banasha...   \n",
       "1      https://www.zomato.com/bangalore/spice-elephan...   \n",
       "2      https://www.zomato.com/SanchurroBangalore?cont...   \n",
       "3      https://www.zomato.com/bangalore/addhuri-udupi...   \n",
       "4      https://www.zomato.com/bangalore/grand-village...   \n",
       "...                                                  ...   \n",
       "51709  https://www.zomato.com/bangalore/the-farm-hous...   \n",
       "51711  https://www.zomato.com/bangalore/bhagini-2-whi...   \n",
       "51712  https://www.zomato.com/bangalore/best-brews-fo...   \n",
       "51715  https://www.zomato.com/bangalore/chime-sherato...   \n",
       "51716  https://www.zomato.com/bangalore/the-nest-the-...   \n",
       "\n",
       "                                                 address  \\\n",
       "0      942, 21st Main Road, 2nd Stage, Banashankari, ...   \n",
       "1      2nd Floor, 80 Feet Road, Near Big Bazaar, 6th ...   \n",
       "2      1112, Next to KIMS Medical College, 17th Cross...   \n",
       "3      1st Floor, Annakuteera, 3rd Stage, Banashankar...   \n",
       "4      10, 3rd Floor, Lakshmi Associates, Gandhi Baza...   \n",
       "...                                                  ...   \n",
       "51709  136, SAP Labs India, KIADB Export Promotion In...   \n",
       "51711  139/C1, Next To GR Tech Park, Pattandur Agraha...   \n",
       "51712  Four Points by Sheraton Bengaluru, 43/3, White...   \n",
       "51715  Sheraton Grand Bengaluru Whitefield Hotel & Co...   \n",
       "51716  ITPL Main Road, KIADB Export Promotion Industr...   \n",
       "\n",
       "                                                    name online_order  \\\n",
       "0                                                  Jalsa          Yes   \n",
       "1                                         Spice Elephant          Yes   \n",
       "2                                        San Churro Cafe          Yes   \n",
       "3                                  Addhuri Udupi Bhojana           No   \n",
       "4                                          Grand Village           No   \n",
       "...                                                  ...          ...   \n",
       "51709                         The Farm House Bar n Grill           No   \n",
       "51711                                            Bhagini           No   \n",
       "51712  Best Brews - Four Points by Sheraton Bengaluru...           No   \n",
       "51715  Chime - Sheraton Grand Bengaluru Whitefield Ho...           No   \n",
       "51716                       The Nest - The Den Bengaluru           No   \n",
       "\n",
       "      book_table    rate  votes                             phone  \\\n",
       "0            Yes   4.1/5    775    080 42297555\\r\\n+91 9743772233   \n",
       "1             No   4.1/5    787                      080 41714161   \n",
       "2             No   3.8/5    918                    +91 9663487993   \n",
       "3             No   3.7/5     88                    +91 9620009302   \n",
       "4             No   3.8/5    166  +91 8026612447\\r\\n+91 9901210005   \n",
       "...          ...     ...    ...                               ...   \n",
       "51709         No  3.7 /5     34    +91 9980121279\\n+91 9900240646   \n",
       "51711         No  2.5 /5     81                      080 65951222   \n",
       "51712         No  3.6 /5     27                      080 40301477   \n",
       "51715        Yes  4.3 /5    236                      080 49652769   \n",
       "51716         No  3.4 /5     13                    +91 8071117272   \n",
       "\n",
       "                         location            rest_type  \\\n",
       "0                    Banashankari        Casual Dining   \n",
       "1                    Banashankari        Casual Dining   \n",
       "2                    Banashankari  Cafe, Casual Dining   \n",
       "3                    Banashankari          Quick Bites   \n",
       "4                    Basavanagudi        Casual Dining   \n",
       "...                           ...                  ...   \n",
       "51709                  Whitefield   Casual Dining, Bar   \n",
       "51711                  Whitefield   Casual Dining, Bar   \n",
       "51712                  Whitefield                  Bar   \n",
       "51715  ITPL Main Road, Whitefield                  Bar   \n",
       "51716  ITPL Main Road, Whitefield   Bar, Casual Dining   \n",
       "\n",
       "                                              dish_liked  \\\n",
       "0      Pasta, Lunch Buffet, Masala Papad, Paneer Laja...   \n",
       "1      Momos, Lunch Buffet, Chocolate Nirvana, Thai G...   \n",
       "2      Churros, Cannelloni, Minestrone Soup, Hot Choc...   \n",
       "3                                            Masala Dosa   \n",
       "4                                    Panipuri, Gol Gappe   \n",
       "...                                                  ...   \n",
       "51709                                                NaN   \n",
       "51711                               Biryani, Andhra Meal   \n",
       "51712                                                NaN   \n",
       "51715                       Cocktails, Pizza, Buttermilk   \n",
       "51716                                                NaN   \n",
       "\n",
       "                                          cuisines  \\\n",
       "0                   North Indian, Mughlai, Chinese   \n",
       "1                      Chinese, North Indian, Thai   \n",
       "2                           Cafe, Mexican, Italian   \n",
       "3                       South Indian, North Indian   \n",
       "4                         North Indian, Rajasthani   \n",
       "...                                            ...   \n",
       "51709                    North Indian, Continental   \n",
       "51711  Andhra, South Indian, Chinese, North Indian   \n",
       "51712                                  Continental   \n",
       "51715                                  Finger Food   \n",
       "51716       Finger Food, North Indian, Continental   \n",
       "\n",
       "      approx_cost(for two people)  \\\n",
       "0                             800   \n",
       "1                             800   \n",
       "2                             800   \n",
       "3                             300   \n",
       "4                             600   \n",
       "...                           ...   \n",
       "51709                         800   \n",
       "51711                         800   \n",
       "51712                       1,500   \n",
       "51715                       2,500   \n",
       "51716                       1,500   \n",
       "\n",
       "                                            reviews_list menu_item  \\\n",
       "0      [('Rated 4.0', 'RATED\\n  A beautiful place to ...        []   \n",
       "1      [('Rated 4.0', 'RATED\\n  Had been here for din...        []   \n",
       "2      [('Rated 3.0', \"RATED\\n  Ambience is not that ...        []   \n",
       "3      [('Rated 4.0', \"RATED\\n  Great food and proper...        []   \n",
       "4      [('Rated 4.0', 'RATED\\n  Very good restaurant ...        []   \n",
       "...                                                  ...       ...   \n",
       "51709  [('Rated 4.0', 'RATED\\n  Ambience- Big and spa...        []   \n",
       "51711  [('Rated 4.0', 'RATED\\n  A fine place to chill...        []   \n",
       "51712  [('Rated 5.0', \"RATED\\n  Food and service are ...        []   \n",
       "51715  [('Rated 4.0', 'RATED\\n  Nice and friendly pla...        []   \n",
       "51716  [('Rated 5.0', 'RATED\\n  Great ambience , look...        []   \n",
       "\n",
       "      listed_in(type) listed_in(city) rating   rat  \n",
       "0              Buffet    Banashankari    4.1   4.1  \n",
       "1              Buffet    Banashankari    4.1   4.1  \n",
       "2              Buffet    Banashankari    3.8   3.8  \n",
       "3              Buffet    Banashankari    3.7   3.7  \n",
       "4              Buffet    Banashankari    3.8   3.8  \n",
       "...               ...             ...    ...   ...  \n",
       "51709   Pubs and bars      Whitefield   3.7   3.7   \n",
       "51711   Pubs and bars      Whitefield   2.5   2.5   \n",
       "51712   Pubs and bars      Whitefield   3.6   3.6   \n",
       "51715   Pubs and bars      Whitefield   4.3   4.3   \n",
       "51716   Pubs and bars      Whitefield   3.4   3.4   \n",
       "\n",
       "[43942 rows x 19 columns]"
      ]
     },
     "execution_count": 95,
     "metadata": {},
     "output_type": "execute_result"
    }
   ],
   "source": [
    "zomato"
   ]
  },
  {
   "cell_type": "code",
   "execution_count": 98,
   "metadata": {},
   "outputs": [],
   "source": [
    "zomato['rating'] = zomato['rating'].replace({'NEW':0, '-':0})"
   ]
  },
  {
   "cell_type": "code",
   "execution_count": 99,
   "metadata": {},
   "outputs": [
    {
     "data": {
      "text/plain": [
       "array(['4.1', '3.8', '3.7', '3.6', '4.6', '4.0', '4.2', '3.9', '3.1',\n",
       "       '3.0', '3.2', '3.3', '2.8', '4.4', '4.3', 0, '2.9', '3.5', '2.6',\n",
       "       '3.8 ', '3.4', '4.5', '2.5', '2.7', '4.7', '2.4', '2.2', '2.3',\n",
       "       '3.4 ', '3.6 ', '4.8', '3.9 ', '4.2 ', '4.0 ', '4.1 ', '3.7 ',\n",
       "       '3.1 ', '2.9 ', '3.3 ', '2.8 ', '3.5 ', '2.7 ', '2.5 ', '3.2 ',\n",
       "       '2.6 ', '4.5 ', '4.3 ', '4.4 ', '4.9', '2.1', '2.0', '1.8', '4.6 ',\n",
       "       '4.9 ', '3.0 ', '4.8 ', '2.3 ', '4.7 ', '2.4 ', '2.1 ', '2.2 ',\n",
       "       '2.0 ', '1.8 '], dtype=object)"
      ]
     },
     "execution_count": 99,
     "metadata": {},
     "output_type": "execute_result"
    }
   ],
   "source": [
    "zomato['rating'].unique()"
   ]
  },
  {
   "cell_type": "code",
   "execution_count": 101,
   "metadata": {},
   "outputs": [
    {
     "data": {
      "text/plain": [
       "url                            object\n",
       "address                        object\n",
       "name                           object\n",
       "online_order                   object\n",
       "book_table                     object\n",
       "rate                           object\n",
       "votes                           int64\n",
       "phone                          object\n",
       "location                       object\n",
       "rest_type                      object\n",
       "dish_liked                     object\n",
       "cuisines                       object\n",
       "approx_cost(for two people)    object\n",
       "reviews_list                   object\n",
       "menu_item                      object\n",
       "listed_in(type)                object\n",
       "listed_in(city)                object\n",
       "rating                         object\n",
       "rat                            object\n",
       "dtype: object"
      ]
     },
     "execution_count": 101,
     "metadata": {},
     "output_type": "execute_result"
    }
   ],
   "source": [
    "zomato.dtypes"
   ]
  },
  {
   "cell_type": "code",
   "execution_count": 103,
   "metadata": {},
   "outputs": [],
   "source": [
    "zomato['rating'] = zomato['rating'].astype(float)"
   ]
  },
  {
   "cell_type": "code",
   "execution_count": 129,
   "metadata": {},
   "outputs": [],
   "source": [
    "Average_rating = zomato.groupby('location')['rating'].mean().sort_values(ascending = False).values"
   ]
  },
  {
   "cell_type": "code",
   "execution_count": 130,
   "metadata": {},
   "outputs": [
    {
     "data": {
      "text/plain": [
       "array([4.04288577, 4.01720117, 3.97875648, 3.96538462, 3.96309091,\n",
       "       3.90151197, 3.90105263, 3.85      , 3.84457237, 3.83965517,\n",
       "       3.81435185, 3.80740741, 3.79642857, 3.74784206, 3.74055024,\n",
       "       3.7270073 , 3.72222222, 3.70492958, 3.68801262, 3.68783784,\n",
       "       3.66823708, 3.66246625, 3.65216942, 3.64      , 3.625     ,\n",
       "       3.61525029, 3.6075    , 3.60645161, 3.59584871, 3.583174  ,\n",
       "       3.58095238, 3.56487889, 3.54565217, 3.54139845, 3.52914439,\n",
       "       3.51111111, 3.50267857, 3.49980952, 3.49891697, 3.48695652,\n",
       "       3.48406955, 3.47894737, 3.4787234 , 3.47818471, 3.47362637,\n",
       "       3.47355822, 3.45555556, 3.44615385, 3.44551724, 3.4375    ,\n",
       "       3.42977099, 3.42238193, 3.41978022, 3.41292591, 3.40053227,\n",
       "       3.4       , 3.38911917, 3.38554779, 3.38417011, 3.3746988 ,\n",
       "       3.37329193, 3.36292585, 3.36      , 3.33333333, 3.32358974,\n",
       "       3.3202381 , 3.3202381 , 3.30983302, 3.29892473, 3.29612767,\n",
       "       3.2940678 , 3.27927928, 3.278125  , 3.27167674, 3.26393782,\n",
       "       3.25763547, 3.24929577, 3.24333333, 3.21818182, 3.21515152,\n",
       "       3.2       , 3.18181818, 3.10970874, 3.10714286, 3.09539474,\n",
       "       3.09389313, 3.05472973, 3.04190871, 2.92675159, 2.88      ,\n",
       "       2.38571429, 2.02      ])"
      ]
     },
     "execution_count": 130,
     "metadata": {},
     "output_type": "execute_result"
    }
   ],
   "source": [
    "Average_rating"
   ]
  },
  {
   "cell_type": "code",
   "execution_count": 108,
   "metadata": {},
   "outputs": [],
   "source": [
    "location = zomato.groupby('location')['rating'].mean().sort_values(ascending = False).index"
   ]
  },
  {
   "cell_type": "code",
   "execution_count": 109,
   "metadata": {},
   "outputs": [
    {
     "data": {
      "text/plain": [
       "Index(['Lavelle Road', 'St. Marks Road', 'Koramangala 3rd Block',\n",
       "       'Sankey Road', 'Church Street', 'Koramangala 5th Block',\n",
       "       'Cunningham Road', 'Rajarajeshwari Nagar', 'Residency Road',\n",
       "       'Sadashiv Nagar', 'Koramangala 4th Block', 'Langford Town',\n",
       "       'Infantry Road', 'Koramangala 7th Block', 'MG Road', 'Race Course Road',\n",
       "       'Kengeri', 'Seshadripuram', 'Richmond Road', 'Hosur Road',\n",
       "       'Malleshwaram', 'Koramangala 6th Block', 'Indiranagar', 'Yelahanka',\n",
       "       'Central Bangalore', 'Jayanagar', 'Koramangala 8th Block',\n",
       "       'Koramangala', 'Brigade Road', 'New BEL Road', 'Vasanth Nagar',\n",
       "       'Frazer Town', 'Koramangala 2nd Block', 'Ulsoor', 'Kalyan Nagar',\n",
       "       'Uttarahalli', 'Yeshwantpur', 'Kammanahalli', 'Shivajinagar',\n",
       "       'Jalahalli', 'HSR', 'Kanakapura Road', 'Sahakara Nagar', 'Basavanagudi',\n",
       "       'Kaggadasapura', 'Sarjapur Road', 'Mysore Road', 'City Market',\n",
       "       'Basaveshwara Nagar', 'Magadi Road', 'Jeevan Bhima Nagar',\n",
       "       'Rajajinagar', 'South Bangalore', 'JP Nagar', 'Marathahalli',\n",
       "       'Nagarbhavi', 'Old Airport Road', 'Domlur', 'Whitefield', 'Brookefield',\n",
       "       'Banashankari', 'Banaswadi', 'Sanjay Nagar', 'Nagawara', 'Shanti Nagar',\n",
       "       'ITPL Main Road, Whitefield', 'Kumaraswamy Layout', 'Bellandur',\n",
       "       'Varthur Main Road, Whitefield', 'BTM', 'Majestic', 'HBR Layout',\n",
       "       'RT Nagar', 'Bannerghatta Road', 'Koramangala 1st Block',\n",
       "       'Wilson Garden', 'Vijay Nagar', 'East Bangalore', 'KR Puram',\n",
       "       'CV Raman Nagar', 'Peenya', 'Old Madras Road', 'Commercial Street',\n",
       "       'Rammurthy Nagar', 'Thippasandra', 'Hennur', 'Ejipura',\n",
       "       'Electronic City', 'Bommanahalli', 'Hebbal', 'North Bangalore',\n",
       "       'West Bangalore'],\n",
       "      dtype='object', name='location')"
      ]
     },
     "execution_count": 109,
     "metadata": {},
     "output_type": "execute_result"
    }
   ],
   "source": [
    "location"
   ]
  },
  {
   "cell_type": "code",
   "execution_count": 147,
   "metadata": {},
   "outputs": [],
   "source": [
    "zomato_rating = pd.DataFrame()"
   ]
  },
  {
   "cell_type": "code",
   "execution_count": 148,
   "metadata": {},
   "outputs": [],
   "source": [
    "zomato_rating['name'] = location\n",
    "zomato_rating['average_rating'] = Average_rating"
   ]
  },
  {
   "cell_type": "code",
   "execution_count": 149,
   "metadata": {},
   "outputs": [
    {
     "data": {
      "text/html": [
       "<div>\n",
       "<style scoped>\n",
       "    .dataframe tbody tr th:only-of-type {\n",
       "        vertical-align: middle;\n",
       "    }\n",
       "\n",
       "    .dataframe tbody tr th {\n",
       "        vertical-align: top;\n",
       "    }\n",
       "\n",
       "    .dataframe thead th {\n",
       "        text-align: right;\n",
       "    }\n",
       "</style>\n",
       "<table border=\"1\" class=\"dataframe\">\n",
       "  <thead>\n",
       "    <tr style=\"text-align: right;\">\n",
       "      <th></th>\n",
       "      <th>name</th>\n",
       "      <th>average_rating</th>\n",
       "    </tr>\n",
       "  </thead>\n",
       "  <tbody>\n",
       "    <tr>\n",
       "      <th>0</th>\n",
       "      <td>Lavelle Road</td>\n",
       "      <td>4.042886</td>\n",
       "    </tr>\n",
       "    <tr>\n",
       "      <th>1</th>\n",
       "      <td>St. Marks Road</td>\n",
       "      <td>4.017201</td>\n",
       "    </tr>\n",
       "    <tr>\n",
       "      <th>2</th>\n",
       "      <td>Koramangala 3rd Block</td>\n",
       "      <td>3.978756</td>\n",
       "    </tr>\n",
       "    <tr>\n",
       "      <th>3</th>\n",
       "      <td>Sankey Road</td>\n",
       "      <td>3.965385</td>\n",
       "    </tr>\n",
       "    <tr>\n",
       "      <th>4</th>\n",
       "      <td>Church Street</td>\n",
       "      <td>3.963091</td>\n",
       "    </tr>\n",
       "    <tr>\n",
       "      <th>...</th>\n",
       "      <td>...</td>\n",
       "      <td>...</td>\n",
       "    </tr>\n",
       "    <tr>\n",
       "      <th>87</th>\n",
       "      <td>Electronic City</td>\n",
       "      <td>3.041909</td>\n",
       "    </tr>\n",
       "    <tr>\n",
       "      <th>88</th>\n",
       "      <td>Bommanahalli</td>\n",
       "      <td>2.926752</td>\n",
       "    </tr>\n",
       "    <tr>\n",
       "      <th>89</th>\n",
       "      <td>Hebbal</td>\n",
       "      <td>2.880000</td>\n",
       "    </tr>\n",
       "    <tr>\n",
       "      <th>90</th>\n",
       "      <td>North Bangalore</td>\n",
       "      <td>2.385714</td>\n",
       "    </tr>\n",
       "    <tr>\n",
       "      <th>91</th>\n",
       "      <td>West Bangalore</td>\n",
       "      <td>2.020000</td>\n",
       "    </tr>\n",
       "  </tbody>\n",
       "</table>\n",
       "<p>92 rows × 2 columns</p>\n",
       "</div>"
      ],
      "text/plain": [
       "                     name  average_rating\n",
       "0            Lavelle Road        4.042886\n",
       "1          St. Marks Road        4.017201\n",
       "2   Koramangala 3rd Block        3.978756\n",
       "3             Sankey Road        3.965385\n",
       "4           Church Street        3.963091\n",
       "..                    ...             ...\n",
       "87        Electronic City        3.041909\n",
       "88           Bommanahalli        2.926752\n",
       "89                 Hebbal        2.880000\n",
       "90        North Bangalore        2.385714\n",
       "91         West Bangalore        2.020000\n",
       "\n",
       "[92 rows x 2 columns]"
      ]
     },
     "execution_count": 149,
     "metadata": {},
     "output_type": "execute_result"
    }
   ],
   "source": [
    "zomato_rating"
   ]
  },
  {
   "cell_type": "code",
   "execution_count": 150,
   "metadata": {},
   "outputs": [
    {
     "data": {
      "text/html": [
       "<div>\n",
       "<style scoped>\n",
       "    .dataframe tbody tr th:only-of-type {\n",
       "        vertical-align: middle;\n",
       "    }\n",
       "\n",
       "    .dataframe tbody tr th {\n",
       "        vertical-align: top;\n",
       "    }\n",
       "\n",
       "    .dataframe thead th {\n",
       "        text-align: right;\n",
       "    }\n",
       "</style>\n",
       "<table border=\"1\" class=\"dataframe\">\n",
       "  <thead>\n",
       "    <tr style=\"text-align: right;\">\n",
       "      <th></th>\n",
       "      <th>name</th>\n",
       "      <th>latitude</th>\n",
       "      <th>longitude</th>\n",
       "    </tr>\n",
       "  </thead>\n",
       "  <tbody>\n",
       "    <tr>\n",
       "      <th>0</th>\n",
       "      <td>Banashankari</td>\n",
       "      <td>15.887678</td>\n",
       "      <td>75.704678</td>\n",
       "    </tr>\n",
       "    <tr>\n",
       "      <th>1</th>\n",
       "      <td>Basavanagudi</td>\n",
       "      <td>12.941726</td>\n",
       "      <td>77.575502</td>\n",
       "    </tr>\n",
       "    <tr>\n",
       "      <th>2</th>\n",
       "      <td>Mysore Road</td>\n",
       "      <td>12.387214</td>\n",
       "      <td>76.666963</td>\n",
       "    </tr>\n",
       "    <tr>\n",
       "      <th>3</th>\n",
       "      <td>Jayanagar</td>\n",
       "      <td>27.643927</td>\n",
       "      <td>83.052805</td>\n",
       "    </tr>\n",
       "    <tr>\n",
       "      <th>4</th>\n",
       "      <td>Kumaraswamy Layout</td>\n",
       "      <td>12.908149</td>\n",
       "      <td>77.555318</td>\n",
       "    </tr>\n",
       "    <tr>\n",
       "      <th>...</th>\n",
       "      <td>...</td>\n",
       "      <td>...</td>\n",
       "      <td>...</td>\n",
       "    </tr>\n",
       "    <tr>\n",
       "      <th>88</th>\n",
       "      <td>West Bangalore</td>\n",
       "      <td>13.001129</td>\n",
       "      <td>77.632562</td>\n",
       "    </tr>\n",
       "    <tr>\n",
       "      <th>89</th>\n",
       "      <td>Magadi Road</td>\n",
       "      <td>12.945048</td>\n",
       "      <td>77.263004</td>\n",
       "    </tr>\n",
       "    <tr>\n",
       "      <th>90</th>\n",
       "      <td>Yelahanka</td>\n",
       "      <td>13.100698</td>\n",
       "      <td>77.596345</td>\n",
       "    </tr>\n",
       "    <tr>\n",
       "      <th>91</th>\n",
       "      <td>Sahakara Nagar</td>\n",
       "      <td>13.062147</td>\n",
       "      <td>77.580061</td>\n",
       "    </tr>\n",
       "    <tr>\n",
       "      <th>92</th>\n",
       "      <td>Peenya</td>\n",
       "      <td>13.032942</td>\n",
       "      <td>77.527325</td>\n",
       "    </tr>\n",
       "  </tbody>\n",
       "</table>\n",
       "<p>93 rows × 3 columns</p>\n",
       "</div>"
      ],
      "text/plain": [
       "                  name   latitude  longitude\n",
       "0         Banashankari  15.887678  75.704678\n",
       "1         Basavanagudi  12.941726  77.575502\n",
       "2          Mysore Road  12.387214  76.666963\n",
       "3            Jayanagar  27.643927  83.052805\n",
       "4   Kumaraswamy Layout  12.908149  77.555318\n",
       "..                 ...        ...        ...\n",
       "88      West Bangalore  13.001129  77.632562\n",
       "89         Magadi Road  12.945048  77.263004\n",
       "90           Yelahanka  13.100698  77.596345\n",
       "91      Sahakara Nagar  13.062147  77.580061\n",
       "92              Peenya  13.032942  77.527325\n",
       "\n",
       "[93 rows x 3 columns]"
      ]
     },
     "execution_count": 150,
     "metadata": {},
     "output_type": "execute_result"
    }
   ],
   "source": [
    "locations"
   ]
  },
  {
   "cell_type": "code",
   "execution_count": 151,
   "metadata": {},
   "outputs": [],
   "source": [
    "zomato_rating = zomato_rating.merge(locations, on = 'name', how = 'left').dropna()"
   ]
  },
  {
   "cell_type": "code",
   "execution_count": 152,
   "metadata": {},
   "outputs": [
    {
     "data": {
      "text/html": [
       "<div>\n",
       "<style scoped>\n",
       "    .dataframe tbody tr th:only-of-type {\n",
       "        vertical-align: middle;\n",
       "    }\n",
       "\n",
       "    .dataframe tbody tr th {\n",
       "        vertical-align: top;\n",
       "    }\n",
       "\n",
       "    .dataframe thead th {\n",
       "        text-align: right;\n",
       "    }\n",
       "</style>\n",
       "<table border=\"1\" class=\"dataframe\">\n",
       "  <thead>\n",
       "    <tr style=\"text-align: right;\">\n",
       "      <th></th>\n",
       "      <th>name</th>\n",
       "      <th>average_rating</th>\n",
       "      <th>latitude</th>\n",
       "      <th>longitude</th>\n",
       "    </tr>\n",
       "  </thead>\n",
       "  <tbody>\n",
       "    <tr>\n",
       "      <th>0</th>\n",
       "      <td>Lavelle Road</td>\n",
       "      <td>4.042886</td>\n",
       "      <td>40.765284</td>\n",
       "      <td>-76.373824</td>\n",
       "    </tr>\n",
       "    <tr>\n",
       "      <th>1</th>\n",
       "      <td>St. Marks Road</td>\n",
       "      <td>4.017201</td>\n",
       "      <td>51.522645</td>\n",
       "      <td>-0.737287</td>\n",
       "    </tr>\n",
       "    <tr>\n",
       "      <th>2</th>\n",
       "      <td>Koramangala 3rd Block</td>\n",
       "      <td>3.978756</td>\n",
       "      <td>12.927187</td>\n",
       "      <td>77.626625</td>\n",
       "    </tr>\n",
       "    <tr>\n",
       "      <th>3</th>\n",
       "      <td>Sankey Road</td>\n",
       "      <td>3.965385</td>\n",
       "      <td>38.780108</td>\n",
       "      <td>-121.505644</td>\n",
       "    </tr>\n",
       "    <tr>\n",
       "      <th>4</th>\n",
       "      <td>Church Street</td>\n",
       "      <td>3.963091</td>\n",
       "      <td>51.373656</td>\n",
       "      <td>-0.104237</td>\n",
       "    </tr>\n",
       "    <tr>\n",
       "      <th>...</th>\n",
       "      <td>...</td>\n",
       "      <td>...</td>\n",
       "      <td>...</td>\n",
       "      <td>...</td>\n",
       "    </tr>\n",
       "    <tr>\n",
       "      <th>87</th>\n",
       "      <td>Electronic City</td>\n",
       "      <td>3.041909</td>\n",
       "      <td>-6.189407</td>\n",
       "      <td>106.966716</td>\n",
       "    </tr>\n",
       "    <tr>\n",
       "      <th>88</th>\n",
       "      <td>Bommanahalli</td>\n",
       "      <td>2.926752</td>\n",
       "      <td>12.908945</td>\n",
       "      <td>77.623904</td>\n",
       "    </tr>\n",
       "    <tr>\n",
       "      <th>89</th>\n",
       "      <td>Hebbal</td>\n",
       "      <td>2.880000</td>\n",
       "      <td>13.038218</td>\n",
       "      <td>77.591900</td>\n",
       "    </tr>\n",
       "    <tr>\n",
       "      <th>90</th>\n",
       "      <td>North Bangalore</td>\n",
       "      <td>2.385714</td>\n",
       "      <td>13.021715</td>\n",
       "      <td>77.766055</td>\n",
       "    </tr>\n",
       "    <tr>\n",
       "      <th>91</th>\n",
       "      <td>West Bangalore</td>\n",
       "      <td>2.020000</td>\n",
       "      <td>13.001129</td>\n",
       "      <td>77.632562</td>\n",
       "    </tr>\n",
       "  </tbody>\n",
       "</table>\n",
       "<p>91 rows × 4 columns</p>\n",
       "</div>"
      ],
      "text/plain": [
       "                     name  average_rating   latitude   longitude\n",
       "0            Lavelle Road        4.042886  40.765284  -76.373824\n",
       "1          St. Marks Road        4.017201  51.522645   -0.737287\n",
       "2   Koramangala 3rd Block        3.978756  12.927187   77.626625\n",
       "3             Sankey Road        3.965385  38.780108 -121.505644\n",
       "4           Church Street        3.963091  51.373656   -0.104237\n",
       "..                    ...             ...        ...         ...\n",
       "87        Electronic City        3.041909  -6.189407  106.966716\n",
       "88           Bommanahalli        2.926752  12.908945   77.623904\n",
       "89                 Hebbal        2.880000  13.038218   77.591900\n",
       "90        North Bangalore        2.385714  13.021715   77.766055\n",
       "91         West Bangalore        2.020000  13.001129   77.632562\n",
       "\n",
       "[91 rows x 4 columns]"
      ]
     },
     "execution_count": 152,
     "metadata": {},
     "output_type": "execute_result"
    }
   ],
   "source": [
    "zomato_rating"
   ]
  },
  {
   "cell_type": "code",
   "execution_count": 153,
   "metadata": {},
   "outputs": [
    {
     "data": {
      "text/plain": [
       "<folium.plugins.heat_map.HeatMap at 0x2e2e97d0>"
      ]
     },
     "execution_count": 153,
     "metadata": {},
     "output_type": "execute_result"
    }
   ],
   "source": [
    "HeatMap(zomato_rating[['latitude', 'longitude', 'average_rating']]).add_to(basemap)"
   ]
  },
  {
   "cell_type": "code",
   "execution_count": 154,
   "metadata": {},
   "outputs": [
    {
     "data": {
      "text/html": [
       "<div style=\"width:100%;\"><div style=\"position:relative;width:100%;height:0;padding-bottom:60%;\"><span style=\"color:#565656\">Make this Notebook Trusted to load map: File -> Trust Notebook</span><iframe src=\"about:blank\" style=\"position:absolute;width:100%;height:100%;left:0;top:0;border:none !important;\" data-html=%3C%21DOCTYPE%20html%3E%0A%3Chead%3E%20%20%20%20%0A%20%20%20%20%3Cmeta%20http-equiv%3D%22content-type%22%20content%3D%22text/html%3B%20charset%3DUTF-8%22%20/%3E%0A%20%20%20%20%0A%20%20%20%20%20%20%20%20%3Cscript%3E%0A%20%20%20%20%20%20%20%20%20%20%20%20L_NO_TOUCH%20%3D%20false%3B%0A%20%20%20%20%20%20%20%20%20%20%20%20L_DISABLE_3D%20%3D%20false%3B%0A%20%20%20%20%20%20%20%20%3C/script%3E%0A%20%20%20%20%0A%20%20%20%20%3Cstyle%3Ehtml%2C%20body%20%7Bwidth%3A%20100%25%3Bheight%3A%20100%25%3Bmargin%3A%200%3Bpadding%3A%200%3B%7D%3C/style%3E%0A%20%20%20%20%3Cstyle%3E%23map%20%7Bposition%3Aabsolute%3Btop%3A0%3Bbottom%3A0%3Bright%3A0%3Bleft%3A0%3B%7D%3C/style%3E%0A%20%20%20%20%3Cscript%20src%3D%22https%3A//cdn.jsdelivr.net/npm/leaflet%401.6.0/dist/leaflet.js%22%3E%3C/script%3E%0A%20%20%20%20%3Cscript%20src%3D%22https%3A//code.jquery.com/jquery-1.12.4.min.js%22%3E%3C/script%3E%0A%20%20%20%20%3Cscript%20src%3D%22https%3A//maxcdn.bootstrapcdn.com/bootstrap/3.2.0/js/bootstrap.min.js%22%3E%3C/script%3E%0A%20%20%20%20%3Cscript%20src%3D%22https%3A//cdnjs.cloudflare.com/ajax/libs/Leaflet.awesome-markers/2.0.2/leaflet.awesome-markers.js%22%3E%3C/script%3E%0A%20%20%20%20%3Clink%20rel%3D%22stylesheet%22%20href%3D%22https%3A//cdn.jsdelivr.net/npm/leaflet%401.6.0/dist/leaflet.css%22/%3E%0A%20%20%20%20%3Clink%20rel%3D%22stylesheet%22%20href%3D%22https%3A//maxcdn.bootstrapcdn.com/bootstrap/3.2.0/css/bootstrap.min.css%22/%3E%0A%20%20%20%20%3Clink%20rel%3D%22stylesheet%22%20href%3D%22https%3A//maxcdn.bootstrapcdn.com/bootstrap/3.2.0/css/bootstrap-theme.min.css%22/%3E%0A%20%20%20%20%3Clink%20rel%3D%22stylesheet%22%20href%3D%22https%3A//maxcdn.bootstrapcdn.com/font-awesome/4.6.3/css/font-awesome.min.css%22/%3E%0A%20%20%20%20%3Clink%20rel%3D%22stylesheet%22%20href%3D%22https%3A//cdnjs.cloudflare.com/ajax/libs/Leaflet.awesome-markers/2.0.2/leaflet.awesome-markers.css%22/%3E%0A%20%20%20%20%3Clink%20rel%3D%22stylesheet%22%20href%3D%22https%3A//cdn.jsdelivr.net/gh/python-visualization/folium/folium/templates/leaflet.awesome.rotate.min.css%22/%3E%0A%20%20%20%20%0A%20%20%20%20%20%20%20%20%20%20%20%20%3Cmeta%20name%3D%22viewport%22%20content%3D%22width%3Ddevice-width%2C%0A%20%20%20%20%20%20%20%20%20%20%20%20%20%20%20%20initial-scale%3D1.0%2C%20maximum-scale%3D1.0%2C%20user-scalable%3Dno%22%20/%3E%0A%20%20%20%20%20%20%20%20%20%20%20%20%3Cstyle%3E%0A%20%20%20%20%20%20%20%20%20%20%20%20%20%20%20%20%23map_ede3f3d1a96d4bf18cdc26fe730b25cd%20%7B%0A%20%20%20%20%20%20%20%20%20%20%20%20%20%20%20%20%20%20%20%20position%3A%20relative%3B%0A%20%20%20%20%20%20%20%20%20%20%20%20%20%20%20%20%20%20%20%20width%3A%20100.0%25%3B%0A%20%20%20%20%20%20%20%20%20%20%20%20%20%20%20%20%20%20%20%20height%3A%20100.0%25%3B%0A%20%20%20%20%20%20%20%20%20%20%20%20%20%20%20%20%20%20%20%20left%3A%200.0%25%3B%0A%20%20%20%20%20%20%20%20%20%20%20%20%20%20%20%20%20%20%20%20top%3A%200.0%25%3B%0A%20%20%20%20%20%20%20%20%20%20%20%20%20%20%20%20%7D%0A%20%20%20%20%20%20%20%20%20%20%20%20%3C/style%3E%0A%20%20%20%20%20%20%20%20%0A%20%20%20%20%3Cscript%20src%3D%22https%3A//cdn.jsdelivr.net/gh/python-visualization/folium%40master/folium/templates/leaflet_heat.min.js%22%3E%3C/script%3E%0A%20%20%20%20%3Cscript%20src%3D%22https%3A//cdnjs.cloudflare.com/ajax/libs/leaflet.markercluster/1.1.0/leaflet.markercluster.js%22%3E%3C/script%3E%0A%20%20%20%20%3Clink%20rel%3D%22stylesheet%22%20href%3D%22https%3A//cdnjs.cloudflare.com/ajax/libs/leaflet.markercluster/1.1.0/MarkerCluster.css%22/%3E%0A%20%20%20%20%3Clink%20rel%3D%22stylesheet%22%20href%3D%22https%3A//cdnjs.cloudflare.com/ajax/libs/leaflet.markercluster/1.1.0/MarkerCluster.Default.css%22/%3E%0A%3C/head%3E%0A%3Cbody%3E%20%20%20%20%0A%20%20%20%20%0A%20%20%20%20%20%20%20%20%20%20%20%20%3Cdiv%20class%3D%22folium-map%22%20id%3D%22map_ede3f3d1a96d4bf18cdc26fe730b25cd%22%20%3E%3C/div%3E%0A%20%20%20%20%20%20%20%20%0A%3C/body%3E%0A%3Cscript%3E%20%20%20%20%0A%20%20%20%20%0A%20%20%20%20%20%20%20%20%20%20%20%20var%20map_ede3f3d1a96d4bf18cdc26fe730b25cd%20%3D%20L.map%28%0A%20%20%20%20%20%20%20%20%20%20%20%20%20%20%20%20%22map_ede3f3d1a96d4bf18cdc26fe730b25cd%22%2C%0A%20%20%20%20%20%20%20%20%20%20%20%20%20%20%20%20%7B%0A%20%20%20%20%20%20%20%20%20%20%20%20%20%20%20%20%20%20%20%20center%3A%20%5B12.95%2C%2077.69%5D%2C%0A%20%20%20%20%20%20%20%20%20%20%20%20%20%20%20%20%20%20%20%20crs%3A%20L.CRS.EPSG3857%2C%0A%20%20%20%20%20%20%20%20%20%20%20%20%20%20%20%20%20%20%20%20zoom%3A%2012%2C%0A%20%20%20%20%20%20%20%20%20%20%20%20%20%20%20%20%20%20%20%20zoomControl%3A%20true%2C%0A%20%20%20%20%20%20%20%20%20%20%20%20%20%20%20%20%20%20%20%20preferCanvas%3A%20false%2C%0A%20%20%20%20%20%20%20%20%20%20%20%20%20%20%20%20%7D%0A%20%20%20%20%20%20%20%20%20%20%20%20%29%3B%0A%0A%20%20%20%20%20%20%20%20%20%20%20%20%0A%0A%20%20%20%20%20%20%20%20%0A%20%20%20%20%0A%20%20%20%20%20%20%20%20%20%20%20%20var%20tile_layer_568486f64a554643af91dcc923a049f4%20%3D%20L.tileLayer%28%0A%20%20%20%20%20%20%20%20%20%20%20%20%20%20%20%20%22https%3A//%7Bs%7D.tile.openstreetmap.org/%7Bz%7D/%7Bx%7D/%7By%7D.png%22%2C%0A%20%20%20%20%20%20%20%20%20%20%20%20%20%20%20%20%7B%22attribution%22%3A%20%22Data%20by%20%5Cu0026copy%3B%20%5Cu003ca%20href%3D%5C%22http%3A//openstreetmap.org%5C%22%5Cu003eOpenStreetMap%5Cu003c/a%5Cu003e%2C%20under%20%5Cu003ca%20href%3D%5C%22http%3A//www.openstreetmap.org/copyright%5C%22%5Cu003eODbL%5Cu003c/a%5Cu003e.%22%2C%20%22detectRetina%22%3A%20false%2C%20%22maxNativeZoom%22%3A%2018%2C%20%22maxZoom%22%3A%2018%2C%20%22minZoom%22%3A%200%2C%20%22noWrap%22%3A%20false%2C%20%22opacity%22%3A%201%2C%20%22subdomains%22%3A%20%22abc%22%2C%20%22tms%22%3A%20false%7D%0A%20%20%20%20%20%20%20%20%20%20%20%20%29.addTo%28map_ede3f3d1a96d4bf18cdc26fe730b25cd%29%3B%0A%20%20%20%20%20%20%20%20%0A%20%20%20%20%0A%20%20%20%20%20%20%20%20%20%20%20%20var%20heat_map_dc50c5b40e4146e8967211a05f29db99%20%3D%20L.heatLayer%28%0A%20%20%20%20%20%20%20%20%20%20%20%20%20%20%20%20%5B%5B45.95485055%2C%20-112.49659530324134%2C%205124.0%5D%2C%20%5B18.1475%2C%2041.538889%2C%202523.0%5D%2C%20%5B12.9343774%2C%2077.628415%2C%202504.0%5D%2C%20%5B12.2655944%2C%2076.6465404%2C%202235.0%5D%2C%20%5B44.3730577%2C%20-71.6118577%2C%202144.0%5D%2C%20%5B12.9732913%2C%2077.6404672%2C%202083.0%5D%2C%20%5B27.64392675%2C%2083.05280519687284%2C%201926.0%5D%2C%20%5B12.9552572%2C%2077.6984163%2C%201846.0%5D%2C%20%5B12.8870547%2C%2077.5969483%2C%201630.0%5D%2C%20%5B12.93577245%2C%2077.66676103753434%2C%201286.0%5D%2C%20%5B-6.18940725%2C%20106.96671554738951%2C%201258.0%5D%2C%20%5B14.5395813%2C%20121.070371%2C%201238.0%5D%2C%20%5B40.28745%2C%20-76.964526%2C%201218.0%5D%2C%20%5B12.9302645%2C%2077.6332585%2C%201181.0%5D%2C%20%5B12.9400321%2C%2077.6203272%2C%201156.0%5D%2C%20%5B12.9252241%2C%2077.6367015%2C%201065.0%5D%2C%20%5B12.9778793%2C%2077.6246697%2C%201023.0%5D%2C%20%5B12.93433385%2C%2077.63040639553275%2C%201017.0%5D%2C%20%5B29.4534927%2C%20-98.6440138%2C%20918.0%5D%2C%20%5B15.8876779%2C%2075.7046777%2C%20906.0%5D%2C%20%5B13.0221416%2C%2077.6403368%2C%20853.0%5D%2C%20%5B50.7721586%2C%200.09772783661369303%2C%20812.0%5D%2C%20%5B12.996845%2C%2077.6130165%2C%20727.0%5D%2C%20%5B13.0027353%2C%2077.5703253%2C%20725.0%5D%2C%20%5B12.9417261%2C%2077.5755021%2C%20684.0%5D%2C%20%5B24.593839%2C%2073.6968527%2C%20675.0%5D%2C%20%5B13.0141618%2C%2077.6518539%2C%20664.0%5D%2C%20%5B33.5935063%2C%20-79.0345627%2C%20658.0%5D%2C%20%5B13.0318541%2C%2077.5700947%2C%20649.0%5D%2C%20%5B13.0093455%2C%2077.6377094%2C%20648.0%5D%2C%20%5B12.9882338%2C%2077.554883%2C%20591.0%5D%2C%20%5B51.373656%2C%20-0.1042366%2C%20569.0%5D%2C%20%5B40.7652844%2C%20-76.373824%2C%20529.0%5D%2C%20%5B12.9575547%2C%2077.5979099%2C%20511.0%5D%2C%20%5B18.5322493%2C%2073.8499601124847%2C%20499.0%5D%2C%20%5B12.9624669%2C%2077.6381958%2C%20496.0%5D%2C%20%5B31.89376%2C%20-88.066644%2C%20491.0%5D%2C%20%5B34.8457921%2C%20-82.338901%2C%20446.0%5D%2C%20%5B12.945245%2C%2077.6269144%2C%20439.0%5D%2C%20%5B51.5209606%2C%20-0.0751003%2C%20370.0%5D%2C%20%5B51.522645%2C%20-0.737287%2C%20352.0%5D%2C%20%5B12.9417812%2C%2077.6160146%2C%20320.0%5D%2C%20%5B12.988721250000001%2C%2077.58516877601824%2C%20295.0%5D%2C%20%5B12.9678074%2C%2077.6568367%2C%20272.0%5D%2C%20%5B12.9489339%2C%2077.5968273%2C%20246.0%5D%2C%20%5B12.9089453%2C%2077.6239038%2C%20238.0%5D%2C%20%5B12.9271867%2C%2077.6266252%2C%20216.0%5D%2C%20%5B12.9081487%2C%2077.5553179%2C%20195.0%5D%2C%20%5B12.973936%2C%2077.6509982%2C%20194.0%5D%2C%20%5B12.9932739%2C%2077.5388099%2C%20191.0%5D%2C%20%5B13.2227%2C%2078.5541977%2C%20187.0%5D%2C%20%5B12.9931876%2C%2077.5753419%2C%20165.0%5D%2C%20%5B13.0258087%2C%2077.6305067%2C%20161.0%5D%2C%20%5B1.2847055%2C%20103.84320655721689%2C%20155.0%5D%2C%20%5B13.0358698%2C%2077.6323597%2C%20153.0%5D%2C%20%5B34.977289%2C%20-78.974578%2C%20151.0%5D%2C%20%5B13.0099164%2C%2080.2151774%2C%20139.0%5D%2C%20%5B39.76880625%2C%20-86.15345077251979%2C%20126.0%5D%2C%20%5B13.02383%2C%2077.5529215%2C%20119.0%5D%2C%20%5B12.9414662%2C%2077.7470942%2C%20117.0%5D%2C%20%5B12.9673253%2C%2077.7166857%2C%20113.0%5D%2C%20%5B13.0646907%2C%2077.49626895712257%2C%20107.0%5D%2C%20%5B12.773175%2C%2077.7831871%2C%20102.0%5D%2C%20%5B12.9243509%2C%2077.6255562%2C%20102.0%5D%2C%20%5B12.9846713%2C%2077.6790908%2C%20101.0%5D%2C%20%5B17.2510682%2C%2080.1651978%2C%2090.0%5D%2C%20%5B13.0227204%2C%2077.595715%2C%2080.0%5D%2C%20%5B22.8359967%2C%2069.3405962%2C%2080.0%5D%2C%20%5B23.1485712%2C%2081.6048241%2C%2076.0%5D%2C%20%5B15.8782951%2C%2074.5084834%2C%2063.0%5D%2C%20%5B13.0621474%2C%2077.58006135480495%2C%2053.0%5D%2C%20%5B13.2923988%2C%2077.7519261%2C%2048.0%5D%2C%20%5B13.0215466%2C%2077.7640586%2C%2044.0%5D%2C%20%5B11.9917786%2C%2076.5066292%2C%2038.0%5D%2C%20%5B12.945048%2C%2077.263004%2C%2034.0%5D%2C%20%5B12.957998%2C%2077.6037312%2C%2027.0%5D%2C%20%5B38.7801076%2C%20-121.5056438%2C%2027.0%5D%2C%20%5B12.3872141%2C%2076.6669626%2C%2022.0%5D%2C%20%5B13.0460773%2C%2077.7503908%2C%2022.0%5D%2C%20%5B12.5442176%2C%2077.4213833%2C%2019.0%5D%2C%20%5B13.007516%2C%2077.695935%2C%2018.0%5D%2C%20%5B12.9055682%2C%2077.5455438%2C%2017.0%5D%2C%20%5B13.0382184%2C%2077.5919%2C%2014.0%5D%2C%20%5B13.0217151%2C%2077.7660547%2C%2014.0%5D%2C%20%5B12.9176571%2C%2077.4837568%2C%209.0%5D%2C%20%5B12.9546741%2C%2077.5121724%2C%209.0%5D%2C%20%5B12.9900235%2C%2077.572073%2C%208.0%5D%2C%20%5B13.1006982%2C%2077.5963454%2C%206.0%5D%2C%20%5B13.0011289%2C%2077.6325617%2C%206.0%5D%2C%20%5B13.0784743%2C%2077.6068938%2C%203.0%5D%2C%20%5B12.9274413%2C%2077.5155224%2C%202.0%5D%2C%20%5B13.0329419%2C%2077.5273253%2C%201.0%5D%5D%2C%0A%20%20%20%20%20%20%20%20%20%20%20%20%20%20%20%20%7B%22blur%22%3A%2015%2C%20%22maxZoom%22%3A%2018%2C%20%22minOpacity%22%3A%200.5%2C%20%22radius%22%3A%2025%2C%20%22zoom%22%3A%2020%7D%0A%20%20%20%20%20%20%20%20%20%20%20%20%29.addTo%28map_ede3f3d1a96d4bf18cdc26fe730b25cd%29%3B%0A%20%20%20%20%20%20%20%20%0A%20%20%20%20%0A%20%20%20%20%20%20%20%20%20%20%20%20var%20fast_marker_cluster_02b93675d22f48fe8c499109e8e59fc3%20%3D%20%28function%28%29%7B%0A%20%20%20%20%20%20%20%20%20%20%20%20%20%20%20%20%0A%20%20%20%20%20%20%20%20%20%20%20%20%20%20%20%20var%20callback%20%3D%20function%20%28row%29%20%7B%0A%20%20%20%20%20%20%20%20%20%20%20%20%20%20%20%20%20%20%20%20var%20icon%20%3D%20L.AwesomeMarkers.icon%28%29%3B%0A%20%20%20%20%20%20%20%20%20%20%20%20%20%20%20%20%20%20%20%20var%20marker%20%3D%20L.marker%28new%20L.LatLng%28row%5B0%5D%2C%20row%5B1%5D%29%29%3B%0A%20%20%20%20%20%20%20%20%20%20%20%20%20%20%20%20%20%20%20%20marker.setIcon%28icon%29%3B%0A%20%20%20%20%20%20%20%20%20%20%20%20%20%20%20%20%20%20%20%20return%20marker%3B%0A%20%20%20%20%20%20%20%20%20%20%20%20%20%20%20%20%7D%3B%0A%0A%20%20%20%20%20%20%20%20%20%20%20%20%20%20%20%20var%20data%20%3D%20%5B%5B45.95485055%2C%20-112.49659530324134%2C%205124.0%5D%2C%20%5B18.1475%2C%2041.538889%2C%202523.0%5D%2C%20%5B12.9343774%2C%2077.628415%2C%202504.0%5D%2C%20%5B12.2655944%2C%2076.6465404%2C%202235.0%5D%2C%20%5B44.3730577%2C%20-71.6118577%2C%202144.0%5D%2C%20%5B12.9732913%2C%2077.6404672%2C%202083.0%5D%2C%20%5B27.64392675%2C%2083.05280519687284%2C%201926.0%5D%2C%20%5B12.9552572%2C%2077.6984163%2C%201846.0%5D%2C%20%5B12.8870547%2C%2077.5969483%2C%201630.0%5D%2C%20%5B12.93577245%2C%2077.66676103753434%2C%201286.0%5D%2C%20%5B-6.18940725%2C%20106.96671554738951%2C%201258.0%5D%2C%20%5B14.5395813%2C%20121.070371%2C%201238.0%5D%2C%20%5B40.28745%2C%20-76.964526%2C%201218.0%5D%2C%20%5B12.9302645%2C%2077.6332585%2C%201181.0%5D%2C%20%5B12.9400321%2C%2077.6203272%2C%201156.0%5D%2C%20%5B12.9252241%2C%2077.6367015%2C%201065.0%5D%2C%20%5B12.9778793%2C%2077.6246697%2C%201023.0%5D%2C%20%5B12.93433385%2C%2077.63040639553275%2C%201017.0%5D%2C%20%5B29.4534927%2C%20-98.6440138%2C%20918.0%5D%2C%20%5B15.8876779%2C%2075.7046777%2C%20906.0%5D%2C%20%5B13.0221416%2C%2077.6403368%2C%20853.0%5D%2C%20%5B50.7721586%2C%200.09772783661369303%2C%20812.0%5D%2C%20%5B12.996845%2C%2077.6130165%2C%20727.0%5D%2C%20%5B13.0027353%2C%2077.5703253%2C%20725.0%5D%2C%20%5B12.9417261%2C%2077.5755021%2C%20684.0%5D%2C%20%5B24.593839%2C%2073.6968527%2C%20675.0%5D%2C%20%5B13.0141618%2C%2077.6518539%2C%20664.0%5D%2C%20%5B33.5935063%2C%20-79.0345627%2C%20658.0%5D%2C%20%5B13.0318541%2C%2077.5700947%2C%20649.0%5D%2C%20%5B13.0093455%2C%2077.6377094%2C%20648.0%5D%2C%20%5B12.9882338%2C%2077.554883%2C%20591.0%5D%2C%20%5B51.373656%2C%20-0.1042366%2C%20569.0%5D%2C%20%5B40.7652844%2C%20-76.373824%2C%20529.0%5D%2C%20%5B12.9575547%2C%2077.5979099%2C%20511.0%5D%2C%20%5B18.5322493%2C%2073.8499601124847%2C%20499.0%5D%2C%20%5B12.9624669%2C%2077.6381958%2C%20496.0%5D%2C%20%5B31.89376%2C%20-88.066644%2C%20491.0%5D%2C%20%5B34.8457921%2C%20-82.338901%2C%20446.0%5D%2C%20%5B12.945245%2C%2077.6269144%2C%20439.0%5D%2C%20%5B51.5209606%2C%20-0.0751003%2C%20370.0%5D%2C%20%5B51.522645%2C%20-0.737287%2C%20352.0%5D%2C%20%5B12.9417812%2C%2077.6160146%2C%20320.0%5D%2C%20%5B12.988721250000001%2C%2077.58516877601824%2C%20295.0%5D%2C%20%5B12.9678074%2C%2077.6568367%2C%20272.0%5D%2C%20%5B12.9489339%2C%2077.5968273%2C%20246.0%5D%2C%20%5B12.9089453%2C%2077.6239038%2C%20238.0%5D%2C%20%5B12.9271867%2C%2077.6266252%2C%20216.0%5D%2C%20%5B12.9081487%2C%2077.5553179%2C%20195.0%5D%2C%20%5B12.973936%2C%2077.6509982%2C%20194.0%5D%2C%20%5B12.9932739%2C%2077.5388099%2C%20191.0%5D%2C%20%5B13.2227%2C%2078.5541977%2C%20187.0%5D%2C%20%5B12.9931876%2C%2077.5753419%2C%20165.0%5D%2C%20%5B13.0258087%2C%2077.6305067%2C%20161.0%5D%2C%20%5B1.2847055%2C%20103.84320655721689%2C%20155.0%5D%2C%20%5B13.0358698%2C%2077.6323597%2C%20153.0%5D%2C%20%5B34.977289%2C%20-78.974578%2C%20151.0%5D%2C%20%5B13.0099164%2C%2080.2151774%2C%20139.0%5D%2C%20%5B39.76880625%2C%20-86.15345077251979%2C%20126.0%5D%2C%20%5B13.02383%2C%2077.5529215%2C%20119.0%5D%2C%20%5B12.9414662%2C%2077.7470942%2C%20117.0%5D%2C%20%5B12.9673253%2C%2077.7166857%2C%20113.0%5D%2C%20%5B13.0646907%2C%2077.49626895712257%2C%20107.0%5D%2C%20%5B12.773175%2C%2077.7831871%2C%20102.0%5D%2C%20%5B12.9243509%2C%2077.6255562%2C%20102.0%5D%2C%20%5B12.9846713%2C%2077.6790908%2C%20101.0%5D%2C%20%5B17.2510682%2C%2080.1651978%2C%2090.0%5D%2C%20%5B13.0227204%2C%2077.595715%2C%2080.0%5D%2C%20%5B22.8359967%2C%2069.3405962%2C%2080.0%5D%2C%20%5B23.1485712%2C%2081.6048241%2C%2076.0%5D%2C%20%5B15.8782951%2C%2074.5084834%2C%2063.0%5D%2C%20%5B13.0621474%2C%2077.58006135480495%2C%2053.0%5D%2C%20%5B13.2923988%2C%2077.7519261%2C%2048.0%5D%2C%20%5B13.0215466%2C%2077.7640586%2C%2044.0%5D%2C%20%5B11.9917786%2C%2076.5066292%2C%2038.0%5D%2C%20%5B12.945048%2C%2077.263004%2C%2034.0%5D%2C%20%5B12.957998%2C%2077.6037312%2C%2027.0%5D%2C%20%5B38.7801076%2C%20-121.5056438%2C%2027.0%5D%2C%20%5B12.3872141%2C%2076.6669626%2C%2022.0%5D%2C%20%5B13.0460773%2C%2077.7503908%2C%2022.0%5D%2C%20%5B12.5442176%2C%2077.4213833%2C%2019.0%5D%2C%20%5B13.007516%2C%2077.695935%2C%2018.0%5D%2C%20%5B12.9055682%2C%2077.5455438%2C%2017.0%5D%2C%20%5B13.0382184%2C%2077.5919%2C%2014.0%5D%2C%20%5B13.0217151%2C%2077.7660547%2C%2014.0%5D%2C%20%5B12.9176571%2C%2077.4837568%2C%209.0%5D%2C%20%5B12.9546741%2C%2077.5121724%2C%209.0%5D%2C%20%5B12.9900235%2C%2077.572073%2C%208.0%5D%2C%20%5B13.1006982%2C%2077.5963454%2C%206.0%5D%2C%20%5B13.0011289%2C%2077.6325617%2C%206.0%5D%2C%20%5B13.0784743%2C%2077.6068938%2C%203.0%5D%2C%20%5B12.9274413%2C%2077.5155224%2C%202.0%5D%2C%20%5B13.0329419%2C%2077.5273253%2C%201.0%5D%5D%3B%0A%20%20%20%20%20%20%20%20%20%20%20%20%20%20%20%20var%20cluster%20%3D%20L.markerClusterGroup%28%7B%22zoom%22%3A%2020%7D%29%3B%0A%0A%20%20%20%20%20%20%20%20%20%20%20%20%20%20%20%20for%20%28var%20i%20%3D%200%3B%20i%20%3C%20data.length%3B%20i%2B%2B%29%20%7B%0A%20%20%20%20%20%20%20%20%20%20%20%20%20%20%20%20%20%20%20%20var%20row%20%3D%20data%5Bi%5D%3B%0A%20%20%20%20%20%20%20%20%20%20%20%20%20%20%20%20%20%20%20%20var%20marker%20%3D%20callback%28row%29%3B%0A%20%20%20%20%20%20%20%20%20%20%20%20%20%20%20%20%20%20%20%20marker.addTo%28cluster%29%3B%0A%20%20%20%20%20%20%20%20%20%20%20%20%20%20%20%20%7D%0A%0A%20%20%20%20%20%20%20%20%20%20%20%20%20%20%20%20cluster.addTo%28map_ede3f3d1a96d4bf18cdc26fe730b25cd%29%3B%0A%20%20%20%20%20%20%20%20%20%20%20%20%20%20%20%20return%20cluster%3B%0A%20%20%20%20%20%20%20%20%20%20%20%20%7D%29%28%29%3B%0A%20%20%20%20%20%20%20%20%0A%20%20%20%20%0A%20%20%20%20%20%20%20%20%20%20%20%20var%20heat_map_5b32d79d81904cb2a098859f9d72524c%20%3D%20L.heatLayer%28%0A%20%20%20%20%20%20%20%20%20%20%20%20%20%20%20%20%5B%5B40.7652844%2C%20-76.373824%2C%204.04288577154309%5D%2C%20%5B51.522645%2C%20-0.737287%2C%204.0172011661807625%5D%2C%20%5B12.9271867%2C%2077.6266252%2C%203.9787564766839405%5D%2C%20%5B38.7801076%2C%20-121.5056438%2C%203.9653846153846155%5D%2C%20%5B51.373656%2C%20-0.1042366%2C%203.9630909090909086%5D%2C%20%5B12.9343774%2C%2077.628415%2C%203.901511969760601%5D%2C%20%5B31.89376%2C%20-88.066644%2C%203.901052631578944%5D%2C%20%5B12.9274413%2C%2077.5155224%2C%203.85%5D%2C%20%5B24.593839%2C%2073.6968527%2C%203.8445723684210518%5D%2C%20%5B15.8782951%2C%2074.5084834%2C%203.839655172413795%5D%2C%20%5B12.93433385%2C%2077.63040639553275%2C%203.8143518518518587%5D%2C%20%5B12.957998%2C%2077.6037312%2C%203.8074074074074087%5D%2C%20%5B34.977289%2C%20-78.974578%2C%203.796428571428575%5D%2C%20%5B12.9302645%2C%2077.6332585%2C%203.7478420569329716%5D%2C%20%5B29.4534927%2C%20-98.6440138%2C%203.740550239234445%5D%2C%20%5B13.0099164%2C%2080.2151774%2C%203.7270072992700722%5D%2C%20%5B12.9176571%2C%2077.4837568%2C%203.7222222222222223%5D%2C%20%5B12.9931876%2C%2077.5753419%2C%203.7049295774647875%5D%2C%20%5B50.7721586%2C%200.09772783661369303%2C%203.6880126182965247%5D%2C%20%5B12.773175%2C%2077.7831871%2C%203.687837837837837%5D%2C%20%5B13.0027353%2C%2077.5703253%2C%203.6682370820668657%5D%2C%20%5B12.9400321%2C%2077.6203272%2C%203.662466246624663%5D%2C%20%5B12.9732913%2C%2077.6404672%2C%203.6521694214876%5D%2C%20%5B13.1006982%2C%2077.5963454%2C%203.6399999999999997%5D%2C%20%5B12.9900235%2C%2077.572073%2C%203.6250000000000004%5D%2C%20%5B27.64392675%2C%2083.05280519687284%2C%203.615250291036089%5D%2C%20%5B12.9417812%2C%2077.6160146%2C%203.607499999999995%5D%2C%20%5B13.2923988%2C%2077.7519261%2C%203.6064516129032267%5D%2C%20%5B40.28745%2C%20-76.964526%2C%203.5958487084870887%5D%2C%20%5B13.0318541%2C%2077.5700947%2C%203.583173996175911%5D%2C%20%5B12.988721250000001%2C%2077.58516877601824%2C%203.5809523809523807%5D%2C%20%5B12.996845%2C%2077.6130165%2C%203.564878892733561%5D%2C%20%5B12.9243509%2C%2077.6255562%2C%203.545652173913042%5D%2C%20%5B12.9778793%2C%2077.6246697%2C%203.541398446170927%5D%2C%20%5B13.0221416%2C%2077.6403368%2C%203.5291443850267377%5D%2C%20%5B12.9055682%2C%2077.5455438%2C%203.511111111111111%5D%2C%20%5B13.02383%2C%2077.5529215%2C%203.5026785714285693%5D%2C%20%5B13.0093455%2C%2077.6377094%2C%203.499809523809525%5D%2C%20%5B18.5322493%2C%2073.8499601124847%2C%203.498916967509032%5D%2C%20%5B11.9917786%2C%2076.5066292%2C%203.4869565217391307%5D%2C%20%5B18.1475%2C%2041.538889%2C%203.484069548872181%5D%2C%20%5B12.5442176%2C%2077.4213833%2C%203.478947368421052%5D%2C%20%5B13.0621474%2C%2077.58006135480495%2C%203.478723404255319%5D%2C%20%5B12.9417261%2C%2077.5755021%2C%203.478184713375793%5D%2C%20%5B12.9846713%2C%2077.6790908%2C%203.4736263736263737%5D%2C%20%5B12.9252241%2C%2077.6367015%2C%203.4735582154515736%5D%2C%20%5B12.3872141%2C%2076.6669626%2C%203.4555555555555566%5D%2C%20%5B39.76880625%2C%20-86.15345077251979%2C%203.4461538461538463%5D%2C%20%5B12.9932739%2C%2077.5388099%2C%203.445517241379311%5D%2C%20%5B12.945048%2C%2077.263004%2C%203.4375000000000004%5D%2C%20%5B12.9678074%2C%2077.6568367%2C%203.4297709923664126%5D%2C%20%5B12.9882338%2C%2077.554883%2C%203.422381930184803%5D%2C%20%5B13.0646907%2C%2077.49626895712257%2C%203.419780219780221%5D%2C%20%5B12.2655944%2C%2076.6465404%2C%203.412925905895076%5D%2C%20%5B12.9552572%2C%2077.6984163%2C%203.400532268795743%5D%2C%20%5B12.9546741%2C%2077.5121724%2C%203.4%5D%2C%20%5B34.8457921%2C%20-82.338901%2C%203.3891191709844577%5D%2C%20%5B12.9624669%2C%2077.6381958%2C%203.385547785547788%5D%2C%20%5B44.3730577%2C%20-71.6118577%2C%203.3841701122268155%5D%2C%20%5B33.5935063%2C%20-79.0345627%2C%203.374698795180724%5D%2C%20%5B15.8876779%2C%2075.7046777%2C%203.373291925465841%5D%2C%20%5B13.0141618%2C%2077.6518539%2C%203.3629258517034093%5D%2C%20%5B23.1485712%2C%2081.6048241%2C%203.3600000000000008%5D%2C%20%5B13.2227%2C%2078.5541977%2C%203.3333333333333335%5D%2C%20%5B12.9575547%2C%2077.5979099%2C%203.323589743589747%5D%2C%20%5B12.9673253%2C%2077.7166857%2C%203.3202380952380954%5D%2C%20%5B12.9081487%2C%2077.5553179%2C%203.3202380952380954%5D%2C%20%5B12.93577245%2C%2077.66676103753434%2C%203.309833024118736%5D%2C%20%5B12.9414662%2C%2077.7470942%2C%203.2989247311827947%5D%2C%20%5B45.95485055%2C%20-112.49659530324134%2C%203.296127669561143%5D%2C%20%5B1.2847055%2C%20103.84320655721689%2C%203.294067796610167%5D%2C%20%5B13.0358698%2C%2077.6323597%2C%203.279279279279278%5D%2C%20%5B13.0227204%2C%2077.595715%2C%203.278124999999999%5D%2C%20%5B12.8870547%2C%2077.5969483%2C%203.2716767371601234%5D%2C%20%5B14.5395813%2C%20121.070371%2C%203.263937823834194%5D%2C%20%5B12.9489339%2C%2077.5968273%2C%203.2576354679802924%5D%2C%20%5B22.8359967%2C%2069.3405962%2C%203.2492957746478885%5D%2C%20%5B13.0215466%2C%2077.7640586%2C%203.2433333333333327%5D%2C%20%5B13.007516%2C%2077.695935%2C%203.2181818181818183%5D%2C%20%5B17.2510682%2C%2080.1651978%2C%203.215151515151515%5D%2C%20%5B13.0329419%2C%2077.5273253%2C%203.2%5D%2C%20%5B13.0460773%2C%2077.7503908%2C%203.1818181818181825%5D%2C%20%5B51.5209606%2C%20-0.0751003%2C%203.109708737864077%5D%2C%20%5B12.973936%2C%2077.6509982%2C%203.0953947368421058%5D%2C%20%5B13.0258087%2C%2077.6305067%2C%203.0938931297709917%5D%2C%20%5B12.945245%2C%2077.6269144%2C%203.05472972972973%5D%2C%20%5B-6.18940725%2C%20106.96671554738951%2C%203.0419087136929477%5D%2C%20%5B12.9089453%2C%2077.6239038%2C%202.92675159235669%5D%2C%20%5B13.0382184%2C%2077.5919%2C%202.88%5D%2C%20%5B13.0217151%2C%2077.7660547%2C%202.385714285714286%5D%2C%20%5B13.0011289%2C%2077.6325617%2C%202.02%5D%5D%2C%0A%20%20%20%20%20%20%20%20%20%20%20%20%20%20%20%20%7B%22blur%22%3A%2015%2C%20%22maxZoom%22%3A%2018%2C%20%22minOpacity%22%3A%200.5%2C%20%22radius%22%3A%2025%7D%0A%20%20%20%20%20%20%20%20%20%20%20%20%29.addTo%28map_ede3f3d1a96d4bf18cdc26fe730b25cd%29%3B%0A%20%20%20%20%20%20%20%20%0A%3C/script%3E onload=\"this.contentDocument.open();this.contentDocument.write(    decodeURIComponent(this.getAttribute('data-html')));this.contentDocument.close();\" allowfullscreen webkitallowfullscreen mozallowfullscreen></iframe></div></div>"
      ],
      "text/plain": [
       "<folium.folium.Map at 0xcf7a130>"
      ]
     },
     "execution_count": 154,
     "metadata": {},
     "output_type": "execute_result"
    }
   ],
   "source": [
    "basemap"
   ]
  },
  {
   "cell_type": "code",
   "execution_count": 157,
   "metadata": {},
   "outputs": [],
   "source": [
    "North_Zomato = zomato[zomato['cuisines'] == 'North Indian']"
   ]
  },
  {
   "cell_type": "code",
   "execution_count": 159,
   "metadata": {},
   "outputs": [
    {
     "data": {
      "text/html": [
       "<div>\n",
       "<style scoped>\n",
       "    .dataframe tbody tr th:only-of-type {\n",
       "        vertical-align: middle;\n",
       "    }\n",
       "\n",
       "    .dataframe tbody tr th {\n",
       "        vertical-align: top;\n",
       "    }\n",
       "\n",
       "    .dataframe thead th {\n",
       "        text-align: right;\n",
       "    }\n",
       "</style>\n",
       "<table border=\"1\" class=\"dataframe\">\n",
       "  <thead>\n",
       "    <tr style=\"text-align: right;\">\n",
       "      <th></th>\n",
       "      <th>url</th>\n",
       "      <th>address</th>\n",
       "      <th>name</th>\n",
       "      <th>online_order</th>\n",
       "      <th>book_table</th>\n",
       "      <th>rate</th>\n",
       "      <th>votes</th>\n",
       "      <th>phone</th>\n",
       "      <th>location</th>\n",
       "      <th>rest_type</th>\n",
       "      <th>dish_liked</th>\n",
       "      <th>cuisines</th>\n",
       "      <th>approx_cost(for two people)</th>\n",
       "      <th>reviews_list</th>\n",
       "      <th>menu_item</th>\n",
       "      <th>listed_in(type)</th>\n",
       "      <th>listed_in(city)</th>\n",
       "      <th>rating</th>\n",
       "      <th>rat</th>\n",
       "    </tr>\n",
       "  </thead>\n",
       "  <tbody>\n",
       "    <tr>\n",
       "      <th>5</th>\n",
       "      <td>https://www.zomato.com/bangalore/timepass-dinn...</td>\n",
       "      <td>37, 5-1, 4th Floor, Bosco Court, Gandhi Bazaar...</td>\n",
       "      <td>Timepass Dinner</td>\n",
       "      <td>Yes</td>\n",
       "      <td>No</td>\n",
       "      <td>3.8/5</td>\n",
       "      <td>286</td>\n",
       "      <td>+91 9980040002\\r\\n+91 9980063005</td>\n",
       "      <td>Basavanagudi</td>\n",
       "      <td>Casual Dining</td>\n",
       "      <td>Onion Rings, Pasta, Kadhai Paneer, Salads, Sal...</td>\n",
       "      <td>North Indian</td>\n",
       "      <td>600</td>\n",
       "      <td>[('Rated 3.0', 'RATED\\n  Food 3/5\\nAmbience 3/...</td>\n",
       "      <td>[]</td>\n",
       "      <td>Buffet</td>\n",
       "      <td>Banashankari</td>\n",
       "      <td>3.8</td>\n",
       "      <td>3.8</td>\n",
       "    </tr>\n",
       "    <tr>\n",
       "      <th>50</th>\n",
       "      <td>https://www.zomato.com/bangalore/petoo-banasha...</td>\n",
       "      <td>276, Ground Floor, 100 Feet Outer Ring Road, B...</td>\n",
       "      <td>Petoo</td>\n",
       "      <td>No</td>\n",
       "      <td>No</td>\n",
       "      <td>3.7/5</td>\n",
       "      <td>21</td>\n",
       "      <td>+91 8026893211</td>\n",
       "      <td>Banashankari</td>\n",
       "      <td>Quick Bites</td>\n",
       "      <td>NaN</td>\n",
       "      <td>North Indian</td>\n",
       "      <td>450</td>\n",
       "      <td>[('Rated 2.0', 'RATED\\n  This is a neatly made...</td>\n",
       "      <td>[]</td>\n",
       "      <td>Delivery</td>\n",
       "      <td>Banashankari</td>\n",
       "      <td>3.7</td>\n",
       "      <td>3.7</td>\n",
       "    </tr>\n",
       "    <tr>\n",
       "      <th>72</th>\n",
       "      <td>https://www.zomato.com/bangalore/spicy-tandoor...</td>\n",
       "      <td>Opposite ICICi Bank, Hanuman Nagar, Banashanka...</td>\n",
       "      <td>Spicy Tandoor</td>\n",
       "      <td>No</td>\n",
       "      <td>No</td>\n",
       "      <td>NEW</td>\n",
       "      <td>0</td>\n",
       "      <td>+91 8050884222</td>\n",
       "      <td>Banashankari</td>\n",
       "      <td>Quick Bites</td>\n",
       "      <td>NaN</td>\n",
       "      <td>North Indian</td>\n",
       "      <td>150</td>\n",
       "      <td>[('Rated 4.0', 'RATED\\n  cost for chicken roll...</td>\n",
       "      <td>[]</td>\n",
       "      <td>Delivery</td>\n",
       "      <td>Banashankari</td>\n",
       "      <td>0.0</td>\n",
       "      <td>NEW</td>\n",
       "    </tr>\n",
       "    <tr>\n",
       "      <th>87</th>\n",
       "      <td>https://www.zomato.com/bangalore/krishna-sagar...</td>\n",
       "      <td>38, 22nd Main, 22nd Cross, Opposite BDA, 2nd S...</td>\n",
       "      <td>Krishna Sagar</td>\n",
       "      <td>No</td>\n",
       "      <td>No</td>\n",
       "      <td>3.5/5</td>\n",
       "      <td>31</td>\n",
       "      <td>+91 8892752997\\r\\n+91 7204780429</td>\n",
       "      <td>Banashankari</td>\n",
       "      <td>Quick Bites</td>\n",
       "      <td>NaN</td>\n",
       "      <td>North Indian</td>\n",
       "      <td>200</td>\n",
       "      <td>[('Rated 1.0', 'RATED\\n  Worst experience with...</td>\n",
       "      <td>[]</td>\n",
       "      <td>Delivery</td>\n",
       "      <td>Banashankari</td>\n",
       "      <td>3.5</td>\n",
       "      <td>3.5</td>\n",
       "    </tr>\n",
       "    <tr>\n",
       "      <th>94</th>\n",
       "      <td>https://www.zomato.com/bangalore/nandhini-delu...</td>\n",
       "      <td>304, Opposite Apollo Public School, 100 Feet R...</td>\n",
       "      <td>Nandhini Deluxe</td>\n",
       "      <td>No</td>\n",
       "      <td>No</td>\n",
       "      <td>2.6/5</td>\n",
       "      <td>283</td>\n",
       "      <td>080 26890011\\r\\n080 26890033</td>\n",
       "      <td>Banashankari</td>\n",
       "      <td>Casual Dining</td>\n",
       "      <td>Biryani, Chicken Guntur, Thali, Buttermilk, Ma...</td>\n",
       "      <td>North Indian</td>\n",
       "      <td>600</td>\n",
       "      <td>[('Rated 3.0', 'RATED\\n  Ididnt like much.\\n\\n...</td>\n",
       "      <td>[]</td>\n",
       "      <td>Delivery</td>\n",
       "      <td>Banashankari</td>\n",
       "      <td>2.6</td>\n",
       "      <td>2.6</td>\n",
       "    </tr>\n",
       "  </tbody>\n",
       "</table>\n",
       "</div>"
      ],
      "text/plain": [
       "                                                  url  \\\n",
       "5   https://www.zomato.com/bangalore/timepass-dinn...   \n",
       "50  https://www.zomato.com/bangalore/petoo-banasha...   \n",
       "72  https://www.zomato.com/bangalore/spicy-tandoor...   \n",
       "87  https://www.zomato.com/bangalore/krishna-sagar...   \n",
       "94  https://www.zomato.com/bangalore/nandhini-delu...   \n",
       "\n",
       "                                              address             name  \\\n",
       "5   37, 5-1, 4th Floor, Bosco Court, Gandhi Bazaar...  Timepass Dinner   \n",
       "50  276, Ground Floor, 100 Feet Outer Ring Road, B...            Petoo   \n",
       "72  Opposite ICICi Bank, Hanuman Nagar, Banashanka...    Spicy Tandoor   \n",
       "87  38, 22nd Main, 22nd Cross, Opposite BDA, 2nd S...    Krishna Sagar   \n",
       "94  304, Opposite Apollo Public School, 100 Feet R...  Nandhini Deluxe   \n",
       "\n",
       "   online_order book_table   rate  votes                             phone  \\\n",
       "5           Yes         No  3.8/5    286  +91 9980040002\\r\\n+91 9980063005   \n",
       "50           No         No  3.7/5     21                    +91 8026893211   \n",
       "72           No         No    NEW      0                    +91 8050884222   \n",
       "87           No         No  3.5/5     31  +91 8892752997\\r\\n+91 7204780429   \n",
       "94           No         No  2.6/5    283      080 26890011\\r\\n080 26890033   \n",
       "\n",
       "        location      rest_type  \\\n",
       "5   Basavanagudi  Casual Dining   \n",
       "50  Banashankari    Quick Bites   \n",
       "72  Banashankari    Quick Bites   \n",
       "87  Banashankari    Quick Bites   \n",
       "94  Banashankari  Casual Dining   \n",
       "\n",
       "                                           dish_liked      cuisines  \\\n",
       "5   Onion Rings, Pasta, Kadhai Paneer, Salads, Sal...  North Indian   \n",
       "50                                                NaN  North Indian   \n",
       "72                                                NaN  North Indian   \n",
       "87                                                NaN  North Indian   \n",
       "94  Biryani, Chicken Guntur, Thali, Buttermilk, Ma...  North Indian   \n",
       "\n",
       "   approx_cost(for two people)  \\\n",
       "5                          600   \n",
       "50                         450   \n",
       "72                         150   \n",
       "87                         200   \n",
       "94                         600   \n",
       "\n",
       "                                         reviews_list menu_item  \\\n",
       "5   [('Rated 3.0', 'RATED\\n  Food 3/5\\nAmbience 3/...        []   \n",
       "50  [('Rated 2.0', 'RATED\\n  This is a neatly made...        []   \n",
       "72  [('Rated 4.0', 'RATED\\n  cost for chicken roll...        []   \n",
       "87  [('Rated 1.0', 'RATED\\n  Worst experience with...        []   \n",
       "94  [('Rated 3.0', 'RATED\\n  Ididnt like much.\\n\\n...        []   \n",
       "\n",
       "   listed_in(type) listed_in(city)  rating  rat  \n",
       "5           Buffet    Banashankari     3.8  3.8  \n",
       "50        Delivery    Banashankari     3.7  3.7  \n",
       "72        Delivery    Banashankari     0.0  NEW  \n",
       "87        Delivery    Banashankari     3.5  3.5  \n",
       "94        Delivery    Banashankari     2.6  2.6  "
      ]
     },
     "execution_count": 159,
     "metadata": {},
     "output_type": "execute_result"
    }
   ],
   "source": [
    "North_Zomato.head()"
   ]
  },
  {
   "cell_type": "code",
   "execution_count": 162,
   "metadata": {},
   "outputs": [],
   "source": [
    "North_zomato = North_Zomato.groupby('location')['address'].count().reset_index()"
   ]
  },
  {
   "cell_type": "code",
   "execution_count": 166,
   "metadata": {},
   "outputs": [],
   "source": [
    "North_zomato = North_zomato.rename(columns = {'location':'name'})"
   ]
  },
  {
   "cell_type": "code",
   "execution_count": 167,
   "metadata": {},
   "outputs": [
    {
     "data": {
      "text/html": [
       "<div>\n",
       "<style scoped>\n",
       "    .dataframe tbody tr th:only-of-type {\n",
       "        vertical-align: middle;\n",
       "    }\n",
       "\n",
       "    .dataframe tbody tr th {\n",
       "        vertical-align: top;\n",
       "    }\n",
       "\n",
       "    .dataframe thead th {\n",
       "        text-align: right;\n",
       "    }\n",
       "</style>\n",
       "<table border=\"1\" class=\"dataframe\">\n",
       "  <thead>\n",
       "    <tr style=\"text-align: right;\">\n",
       "      <th></th>\n",
       "      <th>name</th>\n",
       "      <th>address</th>\n",
       "    </tr>\n",
       "  </thead>\n",
       "  <tbody>\n",
       "    <tr>\n",
       "      <th>0</th>\n",
       "      <td>BTM</td>\n",
       "      <td>274</td>\n",
       "    </tr>\n",
       "    <tr>\n",
       "      <th>1</th>\n",
       "      <td>Banashankari</td>\n",
       "      <td>35</td>\n",
       "    </tr>\n",
       "    <tr>\n",
       "      <th>2</th>\n",
       "      <td>Banaswadi</td>\n",
       "      <td>9</td>\n",
       "    </tr>\n",
       "    <tr>\n",
       "      <th>3</th>\n",
       "      <td>Bannerghatta Road</td>\n",
       "      <td>60</td>\n",
       "    </tr>\n",
       "    <tr>\n",
       "      <th>4</th>\n",
       "      <td>Basavanagudi</td>\n",
       "      <td>17</td>\n",
       "    </tr>\n",
       "    <tr>\n",
       "      <th>...</th>\n",
       "      <td>...</td>\n",
       "      <td>...</td>\n",
       "    </tr>\n",
       "    <tr>\n",
       "      <th>59</th>\n",
       "      <td>Varthur Main Road, Whitefield</td>\n",
       "      <td>3</td>\n",
       "    </tr>\n",
       "    <tr>\n",
       "      <th>60</th>\n",
       "      <td>Vasanth Nagar</td>\n",
       "      <td>12</td>\n",
       "    </tr>\n",
       "    <tr>\n",
       "      <th>61</th>\n",
       "      <td>Whitefield</td>\n",
       "      <td>148</td>\n",
       "    </tr>\n",
       "    <tr>\n",
       "      <th>62</th>\n",
       "      <td>Wilson Garden</td>\n",
       "      <td>37</td>\n",
       "    </tr>\n",
       "    <tr>\n",
       "      <th>63</th>\n",
       "      <td>Yeshwantpur</td>\n",
       "      <td>3</td>\n",
       "    </tr>\n",
       "  </tbody>\n",
       "</table>\n",
       "<p>64 rows × 2 columns</p>\n",
       "</div>"
      ],
      "text/plain": [
       "                             name  address\n",
       "0                             BTM      274\n",
       "1                    Banashankari       35\n",
       "2                       Banaswadi        9\n",
       "3               Bannerghatta Road       60\n",
       "4                    Basavanagudi       17\n",
       "..                            ...      ...\n",
       "59  Varthur Main Road, Whitefield        3\n",
       "60                  Vasanth Nagar       12\n",
       "61                     Whitefield      148\n",
       "62                  Wilson Garden       37\n",
       "63                    Yeshwantpur        3\n",
       "\n",
       "[64 rows x 2 columns]"
      ]
     },
     "execution_count": 167,
     "metadata": {},
     "output_type": "execute_result"
    }
   ],
   "source": [
    "North_zomato"
   ]
  },
  {
   "cell_type": "code",
   "execution_count": 169,
   "metadata": {},
   "outputs": [],
   "source": [
    "North_longitude = North_zomato.merge(locations, on='name', how = 'left')"
   ]
  },
  {
   "cell_type": "code",
   "execution_count": 170,
   "metadata": {},
   "outputs": [
    {
     "data": {
      "text/html": [
       "<div>\n",
       "<style scoped>\n",
       "    .dataframe tbody tr th:only-of-type {\n",
       "        vertical-align: middle;\n",
       "    }\n",
       "\n",
       "    .dataframe tbody tr th {\n",
       "        vertical-align: top;\n",
       "    }\n",
       "\n",
       "    .dataframe thead th {\n",
       "        text-align: right;\n",
       "    }\n",
       "</style>\n",
       "<table border=\"1\" class=\"dataframe\">\n",
       "  <thead>\n",
       "    <tr style=\"text-align: right;\">\n",
       "      <th></th>\n",
       "      <th>name</th>\n",
       "      <th>address</th>\n",
       "      <th>latitude</th>\n",
       "      <th>longitude</th>\n",
       "    </tr>\n",
       "  </thead>\n",
       "  <tbody>\n",
       "    <tr>\n",
       "      <th>0</th>\n",
       "      <td>BTM</td>\n",
       "      <td>274</td>\n",
       "      <td>45.954851</td>\n",
       "      <td>-112.496595</td>\n",
       "    </tr>\n",
       "    <tr>\n",
       "      <th>1</th>\n",
       "      <td>Banashankari</td>\n",
       "      <td>35</td>\n",
       "      <td>15.887678</td>\n",
       "      <td>75.704678</td>\n",
       "    </tr>\n",
       "    <tr>\n",
       "      <th>2</th>\n",
       "      <td>Banaswadi</td>\n",
       "      <td>9</td>\n",
       "      <td>13.014162</td>\n",
       "      <td>77.651854</td>\n",
       "    </tr>\n",
       "    <tr>\n",
       "      <th>3</th>\n",
       "      <td>Bannerghatta Road</td>\n",
       "      <td>60</td>\n",
       "      <td>12.887055</td>\n",
       "      <td>77.596948</td>\n",
       "    </tr>\n",
       "    <tr>\n",
       "      <th>4</th>\n",
       "      <td>Basavanagudi</td>\n",
       "      <td>17</td>\n",
       "      <td>12.941726</td>\n",
       "      <td>77.575502</td>\n",
       "    </tr>\n",
       "    <tr>\n",
       "      <th>...</th>\n",
       "      <td>...</td>\n",
       "      <td>...</td>\n",
       "      <td>...</td>\n",
       "      <td>...</td>\n",
       "    </tr>\n",
       "    <tr>\n",
       "      <th>59</th>\n",
       "      <td>Varthur Main Road, Whitefield</td>\n",
       "      <td>3</td>\n",
       "      <td>12.941466</td>\n",
       "      <td>77.747094</td>\n",
       "    </tr>\n",
       "    <tr>\n",
       "      <th>60</th>\n",
       "      <td>Vasanth Nagar</td>\n",
       "      <td>12</td>\n",
       "      <td>12.988721</td>\n",
       "      <td>77.585169</td>\n",
       "    </tr>\n",
       "    <tr>\n",
       "      <th>61</th>\n",
       "      <td>Whitefield</td>\n",
       "      <td>148</td>\n",
       "      <td>44.373058</td>\n",
       "      <td>-71.611858</td>\n",
       "    </tr>\n",
       "    <tr>\n",
       "      <th>62</th>\n",
       "      <td>Wilson Garden</td>\n",
       "      <td>37</td>\n",
       "      <td>12.948934</td>\n",
       "      <td>77.596827</td>\n",
       "    </tr>\n",
       "    <tr>\n",
       "      <th>63</th>\n",
       "      <td>Yeshwantpur</td>\n",
       "      <td>3</td>\n",
       "      <td>13.023830</td>\n",
       "      <td>77.552921</td>\n",
       "    </tr>\n",
       "  </tbody>\n",
       "</table>\n",
       "<p>64 rows × 4 columns</p>\n",
       "</div>"
      ],
      "text/plain": [
       "                             name  address   latitude   longitude\n",
       "0                             BTM      274  45.954851 -112.496595\n",
       "1                    Banashankari       35  15.887678   75.704678\n",
       "2                       Banaswadi        9  13.014162   77.651854\n",
       "3               Bannerghatta Road       60  12.887055   77.596948\n",
       "4                    Basavanagudi       17  12.941726   77.575502\n",
       "..                            ...      ...        ...         ...\n",
       "59  Varthur Main Road, Whitefield        3  12.941466   77.747094\n",
       "60                  Vasanth Nagar       12  12.988721   77.585169\n",
       "61                     Whitefield      148  44.373058  -71.611858\n",
       "62                  Wilson Garden       37  12.948934   77.596827\n",
       "63                    Yeshwantpur        3  13.023830   77.552921\n",
       "\n",
       "[64 rows x 4 columns]"
      ]
     },
     "execution_count": 170,
     "metadata": {},
     "output_type": "execute_result"
    }
   ],
   "source": [
    "North_longitude"
   ]
  },
  {
   "cell_type": "code",
   "execution_count": null,
   "metadata": {},
   "outputs": [],
   "source": []
  }
 ],
 "metadata": {
  "kernelspec": {
   "display_name": "Python 3.6.1 32-bit",
   "language": "python",
   "name": "python36132bit081938d0149f48a8aaacb5bab460f3a2"
  },
  "language_info": {
   "codemirror_mode": {
    "name": "ipython",
    "version": 3
   },
   "file_extension": ".py",
   "mimetype": "text/x-python",
   "name": "python",
   "nbconvert_exporter": "python",
   "pygments_lexer": "ipython3",
   "version": "3.6.1"
  }
 },
 "nbformat": 4,
 "nbformat_minor": 4
}
